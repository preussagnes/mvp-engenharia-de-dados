{
 "cells": [
  {
   "cell_type": "markdown",
   "metadata": {
    "application/vnd.databricks.v1+cell": {
     "cellMetadata": {
      "byteLimit": 2048000,
      "rowLimit": 10000
     },
     "inputWidgets": {},
     "nuid": "b408fba7-b974-4896-bc32-992296571866",
     "showTitle": false,
     "tableResultSettingsMap": {},
     "title": ""
    }
   },
   "source": [
    "**Contexto**\n",
    "\n",
    "A Lei Seca brasileira (Lei 11.705/08), sancionada em junho de 2008, foi criada com o objetivo de combater a combinação de álcool e direção e, consequentemente, reduzir os acidentes e as mortes no trânsito.\n",
    "Com essa legislação, estabeleceu-se a tolerância zero para o nível de álcool no sangue dos condutores de veículos, permitindo a aplicação de testes de alcoolemia, como o bafômetro. Além disso, foram impostas penalidades mais severas, incluindo multas, suspensão da habilitação e, em casos graves, a criminalização.\n",
    "\n",
    "**Objetivo**\n",
    "\n",
    "O objetivo deste trabalho é identificar padrões nos acidentes de trânsito em rodovias envolvendo álcool e analisar o possível impacto da implementação da Lei Seca. Para isso, foram formuladas as seguintes questões:\n",
    "- A quantidade total de acidentes de trânsito nos estados brasileiros diminuiu ao longo do tempo?\n",
    "- A Lei Seca contribuiu para a redução dos acidentes de trânsito relacionados ao consumo de álcool?\n",
    "- Houve diminuição na fatalidade dos acidentes envolvendo álcool?\n",
    "- Há alguma condição meteorológica associada a um maior número de acidentes envolvendo álcool?\n",
    "- Existe algum dia da semana em que a incidência de acidentes relacionados ao consumo de álcool seja maior?\n",
    "- Quais estados brasileiros tiveram redução dos acidentes envolvendo álcool ao longo do tempo?\n",
    "\n",
    "**Descrição do Dataset**\n",
    "\n",
    "Para a realização deste trabalho, foi utilizado um dataset disponível no Kaggle, denominado \"Brazil Traffic Incidents\", que fornece informações sobre acidentes de veículos em rodovias brasileiras entre os anos de 2007 à 2023. Este está organizado em 18 tabelas no formato CSV, sendo 17 delas dedicadas a dados sobre os acidentes e uma sobre dados dos radares.\n",
    "\n",
    "Originalmente cada tabela contém entre 26 a 30 atributos, incluindo a localização das vias, detalhes dos acidentes, causas, vítimas, entre outros. No entanto, para este estudo, foram utilizadas apenas as informações das tabelas até o ano de 2022, visto que os dados de 2023 estavam incompletos, e os dados dos radares foram descartados.\n"
   ]
  },
  {
   "cell_type": "markdown",
   "metadata": {
    "application/vnd.databricks.v1+cell": {
     "cellMetadata": {
      "byteLimit": 2048000,
      "rowLimit": 10000
     },
     "inputWidgets": {},
     "nuid": "05d51ee5-5ae8-422e-94f2-a619f24e621c",
     "showTitle": false,
     "tableResultSettingsMap": {},
     "title": ""
    }
   },
   "source": [
    "**Catálogo de Dados**\n",
    "\n",
    "**Tabela: bronze.acidentes_transito**\n",
    "\n",
    "Descrição: Tabela com dados brutos com dados dos acidentes de trânsito.\n",
    "\n",
    "| Coluna                   | Tipo de Dado | Descrição                                                   |\n",
    "|--------------------------|--------------|--------------------------------------------------------------|\n",
    "| id                       | double       | Identificador do acidente                              |\n",
    "| data_inversa             | string       | Data do acidente                                              |\n",
    "| dia_semana               | string       | Dia da semana do acidente (segunda-feira, terça-feira, etc.) |\n",
    "| horario                  | string       | Horário do acidente no formato HH:MM:SS                      |\n",
    "| uf                       | string       | Unidade Federativa onde ocorreu o acidente (SP, RJ, etc.)    |\n",
    "| br                       | string       | Número da rodovia federal onde ocorreu o acidente            |\n",
    "| km                       | string       | Quilômetro da rodovia onde ocorreu o acidente                |\n",
    "| municipio                | string       | Município onde ocorreu o acidente                            |\n",
    "| causa_acidente           | string       | Causa principal do acidente                                  |\n",
    "| tipo_acidente            | string       | Tipo do acidente (Colisão frontal, Animais na Pista, etc.)   |\n",
    "| classificacao_acidente   | string       | Classificação do acidente (Com Vítimas Feridas, Sem vítimas) |\n",
    "| fase_dia                 | string       | Período do dia (Pleno dia, Amanhecer, Anoitecer, etc.)       |\n",
    "| sentido_via              | string       | Sentido da via (Crescente, Decrescente)                      |\n",
    "| condicao_metereologica   | string       | Condição climática no momento do acidente (Céu claro, Nublado, etc.)                   |\n",
    "| tipo_pista               | string       | Tipo da pista (Simples, Dupla, etc.)                         |\n",
    "| tracado_via              | string       | Tipo de traçado da via (Reta, Curva, etc.)                   |\n",
    "| uso_solo                 | string       | Uso do solo ao redor da rodovia (Sim, Não)                   |\n",
    "| ano                      | string       | Ano em que ocorreu o acidente (2007 até 2022)                |\n",
    "| pessoas                  | bigint       | Número total de pessoas envolvidas no acidente               |\n",
    "| mortos                   | bigint       | Número de vítimas fatais                                     |\n",
    "| feridos_leves            | bigint       | Número de feridos leves                                      |\n",
    "| feridos_graves           | bigint       | Número de feridos graves                                     |\n",
    "| ilesos                   | bigint       | Número de pessoas ilesas                                     |\n",
    "| ignorados                | bigint       | Número de pessoas sem informações registradas                |\n",
    "| feridos                  | bigint       | Total de feridos (soma de leves e graves)                    |\n",
    "| veiculos                 | bigint       | Número total de veículos envolvidos                          |\n",
    "| latitude                 | string       | Latitude do local do acidente                                |\n",
    "| longitude                | string       | Longitude do local do acidente                               |\n",
    "| regional                 | string       | Nome da regional da PRF responsável pela área                |\n",
    "| delegacia                | string       | Nome da delegacia da PRF responsável pela área               |\n",
    "| uop                      | string       | Unidade Operacional da PRF responsável pela área             |\n",
    "\n",
    "**Tabela: silver.acidentes_transito**\n",
    "\n",
    "Descrição: Versão tratada da tabela bronze, com menos colunas e dados transformados.\n",
    "\n",
    "| Coluna                   | Tipo de Dado | Descrição                                                   |\n",
    "|--------------------------|--------------|--------------------------------------------------------------|\n",
    "| id_acidente              | int          | Identificador único do acidente                              |\n",
    "| dia_semana               | string       | Dia da semana do acidente (segunda-feira, terça-feira, etc.) |\n",
    "| uf                       | string       | Unidade Federativa onde ocorreu o acidente (São Paulo, Rio de Janeiro etc.)    |\n",
    "| causa_acidente           | string       | Causa principal do acidente                                  |\n",
    "| condicao_metereologica   | string       | Condição climática no momento do acidente (céu claro, nublado, etc.)                   |\n",
    "| pessoas                  | bigint       | Número total de pessoas envolvidas no acidente               |\n",
    "| mortos                   | bigint       | Número de vítimas fatais                                     |\n",
    "| ilesos                   | bigint       | Número de pessoas ilesas                                     |\n",
    "| ignorados                | bigint       | Número de pessoas sem informações registradas                |\n",
    "| feridos                  | bigint       | Total de feridos                                             |\n",
    "| periodo_do_dia           | string       | Período do dia (manhã, tarde, noite e madrugada)                |\n",
    "| ano                      | string       | Ano em que ocorreu o acidente (2007 até 2022)                |\n",
    "\n",
    "**Tabela: dimensao_data**\n",
    "\n",
    "Descrição: Tabela de dimensão com os dados qualitativos do dia do acidente de transito.\n",
    "\n",
    "| Coluna                   | Tipo de Dado | Descrição                                                   |\n",
    "|--------------------------|--------------|--------------------------------------------------------------|\n",
    "| id_data                  | int          | Código único da data                                         |\n",
    "| dia_semana               | string       | Dia da semana do acidente (segunda-feira, terça-feira, etc.)  |\n",
    "| periodo_do_dia           | string       | Período do dia em que o acidente ocorreu (manhã, tarde, noite, madrugada) |\n",
    "| ano                      | string       | Ano em que ocorreu o acidente               |\n",
    "\n",
    "**Tabela: dimensao_meteorologia**\n",
    "\n",
    "Descrição: Tabela de dimensão com os dados qualitativos das condições meteorológicas no momento do acidente de transito.\n",
    "\n",
    "| Coluna                   | Tipo de Dado | Descrição                                                   |\n",
    "|--------------------------|--------------|--------------------------------------------------------------|\n",
    "| id_meteorologia          | int          | Código único para a condição meteorológica |\n",
    "| condicao_meteorologica   | string       | Descrição da condição meteorológica (céu claro, nublado, etc.) |\n",
    "\n",
    "\n",
    "**Tabela: dimensao_localidade**\n",
    "\n",
    "Descrição: Tabela de dimensão com os dados qualitativos sobre a localidade onde o acidente de transito aconteceu.\n",
    "\n",
    "| Coluna                   | Tipo de Dado | Descrição                                                   |\n",
    "|--------------------------|--------------|--------------------------------------------------------------|\n",
    "| id_localidade            | int          | Código único da localidade |\n",
    "| uf                       | string       | Unidade Federativa onde ocorreu o acidente (São Paulo, Rio de Janeiro, etc.)  |\n",
    "\n",
    "**Tabela: fato_acidentes**\n",
    "\n",
    "Descrição: Tabela fato com os dados quantitativos de cada acidente de transito.\n",
    "\n",
    "| Coluna                   | Tipo de Dado | Descrição                                                   |\n",
    "|--------------------------|--------------|--------------------------------------------------------------|\n",
    "| id_acidente              | int          | Identificador único do acidente                              |\n",
    "| pessoas                  | bigint       | Número total de pessoas envolvidas no acidente |\n",
    "| mortos                   | bigint       | Número de vítimas fatais |\n",
    "| ilesos                   | bigint       | Número de pessoas que saíram ilesas |\n",
    "| ignorados                | bigint       | Número de casos onde não há informações sobre o estado da pessoa |\n",
    "| feridos                  | bigint       | Número de pessoas feridas |\n",
    "| causa_acidente           | string       | Causa do acidente |\n",
    "| id_meteorologia          | int          | Chave estrangeira para a tabela dimensao_meteorologia |\n",
    "| id_data                  | int          | Chave estrangeira para a tabela dimensao_data |\n",
    "| id_localidade            | int          | Chave estrangeira para a tabela dimensao_localidade |\n",
    "\n",
    "\n",
    "\n",
    "\n",
    "\n",
    "\n",
    "\n"
   ]
  },
  {
   "cell_type": "markdown",
   "metadata": {
    "application/vnd.databricks.v1+cell": {
     "cellMetadata": {
      "byteLimit": 2048000,
      "rowLimit": 10000
     },
     "inputWidgets": {},
     "nuid": "f42dca18-2405-46fe-8ee7-12ccda339e59",
     "showTitle": false,
     "tableResultSettingsMap": {},
     "title": ""
    }
   },
   "source": [
    "**Coleta**\n",
    "\n",
    "O processo de coleta de dados começou com a importação das bibliotecas necessárias e a desativação dos warnings."
   ]
  },
  {
   "cell_type": "code",
   "execution_count": 0,
   "metadata": {
    "application/vnd.databricks.v1+cell": {
     "cellMetadata": {
      "byteLimit": 2048000,
      "rowLimit": 10000
     },
     "inputWidgets": {},
     "nuid": "ca79339f-167d-4535-bf04-696e6fd6c55c",
     "showTitle": false,
     "tableResultSettingsMap": {},
     "title": ""
    }
   },
   "outputs": [],
   "source": [
    "import warnings\n",
    "warnings.filterwarnings(\"ignore\")\n",
    "import pandas as pd\n",
    "from pyspark.sql import SparkSession\n",
    "from pyspark.sql.functions import monotonically_increasing_id, col, when, lower, substring"
   ]
  },
  {
   "cell_type": "markdown",
   "metadata": {
    "application/vnd.databricks.v1+cell": {
     "cellMetadata": {
      "byteLimit": 2048000,
      "rowLimit": 10000
     },
     "inputWidgets": {},
     "nuid": "9c068a0b-48a3-428b-85b5-734e4c33a4f4",
     "showTitle": false,
     "tableResultSettingsMap": {},
     "title": ""
    }
   },
   "source": [
    "Em seguida, utilizou-se a biblioteca Pandas para importar as tabelas de acidentes de trânsito do período entre 2007 até 2022, armazenadas no GitHub. Essas tabelas foram unificadas em um único DataFrame e adicionando a coluna de ano."
   ]
  },
  {
   "cell_type": "code",
   "execution_count": 0,
   "metadata": {
    "application/vnd.databricks.v1+cell": {
     "cellMetadata": {
      "byteLimit": 2048000,
      "rowLimit": 10000
     },
     "inputWidgets": {},
     "nuid": "562c6268-7357-455d-b278-75dbb90967ee",
     "showTitle": false,
     "tableResultSettingsMap": {},
     "title": ""
    }
   },
   "outputs": [
    {
     "output_type": "stream",
     "name": "stdout",
     "output_type": "stream",
     "text": [
      "Número de linhas e colunas:\n(1981317, 31) \n\n"
     ]
    }
   ],
   "source": [
    "anos = [str(ano) for ano in range(2007, 2023)]\n",
    "dfs = []\n",
    "\n",
    "for ano in anos:\n",
    "    url = f\"https://raw.githubusercontent.com/preussagnes/mvp-engenharia-de-dados/main/DataSet/Dados_PRF_{ano}.csv\"\n",
    "    \n",
    "    df = pd.read_csv(url, encoding='ISO-8859-1', sep=';')\n",
    "    df['ano'] = ano\n",
    "    dfs.append(df)\n",
    "\n",
    "df_completo = pd.concat(dfs)\n",
    "\n",
    "print(\"Número de linhas e colunas:\")\n",
    "print(df_completo.shape, '\\n')"
   ]
  },
  {
   "cell_type": "markdown",
   "metadata": {
    "application/vnd.databricks.v1+cell": {
     "cellMetadata": {
      "byteLimit": 2048000,
      "rowLimit": 10000
     },
     "inputWidgets": {},
     "nuid": "4b07e94a-1c58-4799-8975-ab90342e6590",
     "showTitle": false,
     "tableResultSettingsMap": {},
     "title": ""
    }
   },
   "source": [
    "Para armazenar os dados brutos, foi criada a camada bronze."
   ]
  },
  {
   "cell_type": "code",
   "execution_count": 0,
   "metadata": {
    "application/vnd.databricks.v1+cell": {
     "cellMetadata": {
      "byteLimit": 2048000,
      "implicitDf": true,
      "rowLimit": 10000
     },
     "inputWidgets": {},
     "nuid": "2baa8cba-19f5-4e32-83da-f1d18a99aa3d",
     "showTitle": false,
     "tableResultSettingsMap": {},
     "title": ""
    }
   },
   "outputs": [
    {
     "output_type": "display_data",
     "data": {
      "text/html": [
       "<style scoped>\n",
       "  .table-result-container {\n",
       "    max-height: 300px;\n",
       "    overflow: auto;\n",
       "  }\n",
       "  table, th, td {\n",
       "    border: 1px solid black;\n",
       "    border-collapse: collapse;\n",
       "  }\n",
       "  th, td {\n",
       "    padding: 5px;\n",
       "  }\n",
       "  th {\n",
       "    text-align: left;\n",
       "  }\n",
       "</style><div class='table-result-container'><table class='table-result'><thead style='background-color: white'><tr></tr></thead><tbody></tbody></table></div>"
      ]
     },
     "metadata": {
      "application/vnd.databricks.v1+output": {
       "addedWidgets": {},
       "aggData": [],
       "aggError": "",
       "aggOverflow": false,
       "aggSchema": [],
       "aggSeriesLimitReached": false,
       "aggType": "",
       "arguments": {},
       "columnCustomDisplayInfos": {},
       "data": [],
       "datasetInfos": [],
       "dbfsResultPath": null,
       "isJsonSchema": true,
       "metadata": {},
       "overflow": false,
       "plotOptions": {
        "customPlotOptions": {},
        "displayType": "table",
        "pivotAggregation": null,
        "pivotColumns": null,
        "xColumns": null,
        "yColumns": null
       },
       "removedWidgets": [],
       "schema": [],
       "type": "table"
      }
     },
     "output_type": "display_data"
    }
   ],
   "source": [
    "%sql \n",
    "DROP DATABASE IF EXISTS bronze CASCADE;"
   ]
  },
  {
   "cell_type": "code",
   "execution_count": 0,
   "metadata": {
    "application/vnd.databricks.v1+cell": {
     "cellMetadata": {
      "byteLimit": 2048000,
      "implicitDf": true,
      "rowLimit": 10000
     },
     "inputWidgets": {},
     "nuid": "bac80e58-3ad7-4c98-9692-f9fcd88219ab",
     "showTitle": false,
     "tableResultSettingsMap": {},
     "title": ""
    }
   },
   "outputs": [
    {
     "output_type": "display_data",
     "data": {
      "text/html": [
       "<style scoped>\n",
       "  .table-result-container {\n",
       "    max-height: 300px;\n",
       "    overflow: auto;\n",
       "  }\n",
       "  table, th, td {\n",
       "    border: 1px solid black;\n",
       "    border-collapse: collapse;\n",
       "  }\n",
       "  th, td {\n",
       "    padding: 5px;\n",
       "  }\n",
       "  th {\n",
       "    text-align: left;\n",
       "  }\n",
       "</style><div class='table-result-container'><table class='table-result'><thead style='background-color: white'><tr></tr></thead><tbody></tbody></table></div>"
      ]
     },
     "metadata": {
      "application/vnd.databricks.v1+output": {
       "addedWidgets": {},
       "aggData": [],
       "aggError": "",
       "aggOverflow": false,
       "aggSchema": [],
       "aggSeriesLimitReached": false,
       "aggType": "",
       "arguments": {},
       "columnCustomDisplayInfos": {},
       "data": [],
       "datasetInfos": [],
       "dbfsResultPath": null,
       "isJsonSchema": true,
       "metadata": {},
       "overflow": false,
       "plotOptions": {
        "customPlotOptions": {},
        "displayType": "table",
        "pivotAggregation": null,
        "pivotColumns": null,
        "xColumns": null,
        "yColumns": null
       },
       "removedWidgets": [],
       "schema": [],
       "type": "table"
      }
     },
     "output_type": "display_data"
    }
   ],
   "source": [
    "%sql\n",
    "CREATE DATABASE IF NOT EXISTS bronze;"
   ]
  },
  {
   "cell_type": "markdown",
   "metadata": {
    "application/vnd.databricks.v1+cell": {
     "cellMetadata": {
      "byteLimit": 2048000,
      "rowLimit": 10000
     },
     "inputWidgets": {},
     "nuid": "db2d7ca4-63da-4e38-8bf8-4c4063853d3e",
     "showTitle": false,
     "tableResultSettingsMap": {},
     "title": ""
    }
   },
   "source": [
    "Com o auxílio do Spark, todos os dados foram salvos nessa camada na tabela acidentes_transito."
   ]
  },
  {
   "cell_type": "code",
   "execution_count": 0,
   "metadata": {
    "application/vnd.databricks.v1+cell": {
     "cellMetadata": {
      "byteLimit": 2048000,
      "rowLimit": 10000
     },
     "inputWidgets": {},
     "nuid": "f04f96c4-f526-457b-83c3-078d7aaae8e3",
     "showTitle": false,
     "tableResultSettingsMap": {},
     "title": ""
    }
   },
   "outputs": [],
   "source": [
    "\n",
    "camada_bronze = spark.createDataFrame(df_completo)\n",
    "\n",
    "camada_bronze.write.mode(\"overwrite\").saveAsTable(\"bronze.acidentes_transito\")\n"
   ]
  },
  {
   "cell_type": "markdown",
   "metadata": {
    "application/vnd.databricks.v1+cell": {
     "cellMetadata": {
      "byteLimit": 2048000,
      "rowLimit": 10000
     },
     "inputWidgets": {},
     "nuid": "10743cb8-c076-48a2-a62c-ed710543ff6c",
     "showTitle": false,
     "tableResultSettingsMap": {},
     "title": ""
    }
   },
   "source": [
    "Para validar os dados armazenados, foram realizadas duas consultas: a primeira contando o número total de registros na tabela, e a segunda exibindo as cinco primeiras linhas."
   ]
  },
  {
   "cell_type": "code",
   "execution_count": 0,
   "metadata": {
    "application/vnd.databricks.v1+cell": {
     "cellMetadata": {
      "byteLimit": 2048000,
      "implicitDf": true,
      "rowLimit": 10000
     },
     "inputWidgets": {},
     "nuid": "1c544f6a-e4e2-4e16-8096-29fdbaee212d",
     "showTitle": false,
     "tableResultSettingsMap": {},
     "title": ""
    }
   },
   "outputs": [
    {
     "output_type": "display_data",
     "data": {
      "text/html": [
       "<style scoped>\n",
       "  .table-result-container {\n",
       "    max-height: 300px;\n",
       "    overflow: auto;\n",
       "  }\n",
       "  table, th, td {\n",
       "    border: 1px solid black;\n",
       "    border-collapse: collapse;\n",
       "  }\n",
       "  th, td {\n",
       "    padding: 5px;\n",
       "  }\n",
       "  th {\n",
       "    text-align: left;\n",
       "  }\n",
       "</style><div class='table-result-container'><table class='table-result'><thead style='background-color: white'><tr><th>count(1)</th></tr></thead><tbody><tr><td>1981317</td></tr></tbody></table></div>"
      ]
     },
     "metadata": {
      "application/vnd.databricks.v1+output": {
       "addedWidgets": {},
       "aggData": [],
       "aggError": "",
       "aggOverflow": false,
       "aggSchema": [],
       "aggSeriesLimitReached": false,
       "aggType": "",
       "arguments": {},
       "columnCustomDisplayInfos": {},
       "data": [
        [
         1981317
        ]
       ],
       "datasetInfos": [],
       "dbfsResultPath": null,
       "isJsonSchema": true,
       "metadata": {},
       "overflow": false,
       "plotOptions": {
        "customPlotOptions": {},
        "displayType": "table",
        "pivotAggregation": null,
        "pivotColumns": null,
        "xColumns": null,
        "yColumns": null
       },
       "removedWidgets": [],
       "schema": [
        {
         "metadata": "{\"__autoGeneratedAlias\":\"true\"}",
         "name": "count(1)",
         "type": "\"long\""
        }
       ],
       "type": "table"
      }
     },
     "output_type": "display_data"
    }
   ],
   "source": [
    "%sql\n",
    "SELECT COUNT(*) FROM bronze.acidentes_transito;\n"
   ]
  },
  {
   "cell_type": "code",
   "execution_count": 0,
   "metadata": {
    "application/vnd.databricks.v1+cell": {
     "cellMetadata": {
      "byteLimit": 2048000,
      "implicitDf": true,
      "rowLimit": 10000
     },
     "inputWidgets": {},
     "nuid": "b664b4b4-c86d-496f-a686-223d63634de8",
     "showTitle": false,
     "tableResultSettingsMap": {},
     "title": ""
    }
   },
   "outputs": [
    {
     "output_type": "display_data",
     "data": {
      "text/html": [
       "<style scoped>\n",
       "  .table-result-container {\n",
       "    max-height: 300px;\n",
       "    overflow: auto;\n",
       "  }\n",
       "  table, th, td {\n",
       "    border: 1px solid black;\n",
       "    border-collapse: collapse;\n",
       "  }\n",
       "  th, td {\n",
       "    padding: 5px;\n",
       "  }\n",
       "  th {\n",
       "    text-align: left;\n",
       "  }\n",
       "</style><div class='table-result-container'><table class='table-result'><thead style='background-color: white'><tr><th>id</th><th>data_inversa</th><th>dia_semana</th><th>horario</th><th>uf</th><th>br</th><th>km</th><th>municipio</th><th>causa_acidente</th><th>tipo_acidente</th><th>classificacao_acidente</th><th>fase_dia</th><th>sentido_via</th><th>condicao_metereologica</th><th>tipo_pista</th><th>tracado_via</th><th>uso_solo</th><th>ano</th><th>pessoas</th><th>mortos</th><th>feridos_leves</th><th>feridos_graves</th><th>ilesos</th><th>ignorados</th><th>feridos</th><th>veiculos</th><th>latitude</th><th>longitude</th><th>regional</th><th>delegacia</th><th>uop</th></tr></thead><tbody><tr><td>10.0</td><td>11/06/2007</td><td>Segunda</td><td>15:30:00</td><td>MG</td><td>381</td><td>623.2</td><td>OLIVEIRA</td><td>Falta de atenção</td><td>Colisão frontal</td><td>(null)</td><td>Pleno dia</td><td>Decrescente</td><td>Ceu Claro</td><td>Dupla</td><td>Reta</td><td>Rural</td><td>2007</td><td>9</td><td>0</td><td>4</td><td>0</td><td>5</td><td>0</td><td>4</td><td>6</td><td>NaN</td><td>NaN</td><td>NaN</td><td>NaN</td><td>NaN</td></tr><tr><td>10.0</td><td>11/06/2007</td><td>Segunda</td><td>15:30:00</td><td>MG</td><td>381</td><td>623.2</td><td>OLIVEIRA</td><td>Falta de atenção</td><td>Colisão frontal</td><td>(null)</td><td>Pleno dia</td><td>Decrescente</td><td>Chuva</td><td>Dupla</td><td>Reta</td><td>Rural</td><td>2007</td><td>9</td><td>0</td><td>4</td><td>0</td><td>5</td><td>0</td><td>4</td><td>6</td><td>NaN</td><td>NaN</td><td>NaN</td><td>NaN</td><td>NaN</td></tr><tr><td>1032898.0</td><td>13/08/2007</td><td>Segunda</td><td>14:25:00</td><td>MG</td><td>40</td><td>585.5</td><td>ITABIRITO</td><td>Outras</td><td>Saída de Pista</td><td>Com Vítimas Feridas</td><td>Pleno dia</td><td>Crescente</td><td>Ceu Claro</td><td>Simples</td><td>Reta</td><td>Rural</td><td>2007</td><td>3</td><td>0</td><td>0</td><td>1</td><td>2</td><td>0</td><td>1</td><td>1</td><td>NaN</td><td>NaN</td><td>NaN</td><td>NaN</td><td>NaN</td></tr><tr><td>1051130.0</td><td>12/02/2007</td><td>Segunda</td><td>02:10:00</td><td>MA</td><td>135</td><td>11.0</td><td>SAO LUIS</td><td>Animais na Pista</td><td>Atropelamento de animal</td><td>Com Vítimas Fatais</td><td>Plena noite</td><td>Crescente</td><td>Ceu Claro</td><td>Simples</td><td>Reta</td><td>Urbano</td><td>2007</td><td>5</td><td>2</td><td>2</td><td>1</td><td>0</td><td>0</td><td>3</td><td>1</td><td>NaN</td><td>NaN</td><td>NaN</td><td>NaN</td><td>NaN</td></tr><tr><td>1066824.0</td><td>20/11/2007</td><td>Terça</td><td>05:30:00</td><td>CE</td><td>222</td><td>30.8</td><td>CAUCAIA</td><td>Defeito mecânico em veículo</td><td>Capotamento</td><td>Com Vítimas Feridas</td><td>Amanhecer</td><td>Decrescente</td><td>Ceu Claro</td><td>Dupla</td><td>Reta</td><td>Rural</td><td>2007</td><td>1</td><td>0</td><td>1</td><td>0</td><td>0</td><td>0</td><td>1</td><td>1</td><td>NaN</td><td>NaN</td><td>NaN</td><td>NaN</td><td>NaN</td></tr></tbody></table></div>"
      ]
     },
     "metadata": {
      "application/vnd.databricks.v1+output": {
       "addedWidgets": {},
       "aggData": [],
       "aggError": "",
       "aggOverflow": false,
       "aggSchema": [],
       "aggSeriesLimitReached": false,
       "aggType": "",
       "arguments": {},
       "columnCustomDisplayInfos": {},
       "data": [
        [
         10.0,
         "11/06/2007",
         "Segunda",
         "15:30:00",
         "MG",
         "381",
         "623.2",
         "OLIVEIRA",
         "Falta de atenção",
         "Colisão frontal",
         "(null)",
         "Pleno dia",
         "Decrescente",
         "Ceu Claro",
         "Dupla",
         "Reta",
         "Rural",
         "2007",
         9,
         0,
         4,
         0,
         5,
         0,
         4,
         6,
         "NaN",
         "NaN",
         "NaN",
         "NaN",
         "NaN"
        ],
        [
         10.0,
         "11/06/2007",
         "Segunda",
         "15:30:00",
         "MG",
         "381",
         "623.2",
         "OLIVEIRA",
         "Falta de atenção",
         "Colisão frontal",
         "(null)",
         "Pleno dia",
         "Decrescente",
         "Chuva",
         "Dupla",
         "Reta",
         "Rural",
         "2007",
         9,
         0,
         4,
         0,
         5,
         0,
         4,
         6,
         "NaN",
         "NaN",
         "NaN",
         "NaN",
         "NaN"
        ],
        [
         1032898.0,
         "13/08/2007",
         "Segunda",
         "14:25:00",
         "MG",
         "40",
         "585.5",
         "ITABIRITO",
         "Outras",
         "Saída de Pista",
         "Com Vítimas Feridas",
         "Pleno dia",
         "Crescente",
         "Ceu Claro",
         "Simples",
         "Reta",
         "Rural",
         "2007",
         3,
         0,
         0,
         1,
         2,
         0,
         1,
         1,
         "NaN",
         "NaN",
         "NaN",
         "NaN",
         "NaN"
        ],
        [
         1051130.0,
         "12/02/2007",
         "Segunda",
         "02:10:00",
         "MA",
         "135",
         "11.0",
         "SAO LUIS",
         "Animais na Pista",
         "Atropelamento de animal",
         "Com Vítimas Fatais",
         "Plena noite",
         "Crescente",
         "Ceu Claro",
         "Simples",
         "Reta",
         "Urbano",
         "2007",
         5,
         2,
         2,
         1,
         0,
         0,
         3,
         1,
         "NaN",
         "NaN",
         "NaN",
         "NaN",
         "NaN"
        ],
        [
         1066824.0,
         "20/11/2007",
         "Terça",
         "05:30:00",
         "CE",
         "222",
         "30.8",
         "CAUCAIA",
         "Defeito mecânico em veículo",
         "Capotamento",
         "Com Vítimas Feridas",
         "Amanhecer",
         "Decrescente",
         "Ceu Claro",
         "Dupla",
         "Reta",
         "Rural",
         "2007",
         1,
         0,
         1,
         0,
         0,
         0,
         1,
         1,
         "NaN",
         "NaN",
         "NaN",
         "NaN",
         "NaN"
        ]
       ],
       "datasetInfos": [],
       "dbfsResultPath": null,
       "isJsonSchema": true,
       "metadata": {},
       "overflow": false,
       "plotOptions": {
        "customPlotOptions": {},
        "displayType": "table",
        "pivotAggregation": null,
        "pivotColumns": null,
        "xColumns": null,
        "yColumns": null
       },
       "removedWidgets": [],
       "schema": [
        {
         "metadata": "{}",
         "name": "id",
         "type": "\"double\""
        },
        {
         "metadata": "{}",
         "name": "data_inversa",
         "type": "\"string\""
        },
        {
         "metadata": "{}",
         "name": "dia_semana",
         "type": "\"string\""
        },
        {
         "metadata": "{}",
         "name": "horario",
         "type": "\"string\""
        },
        {
         "metadata": "{}",
         "name": "uf",
         "type": "\"string\""
        },
        {
         "metadata": "{}",
         "name": "br",
         "type": "\"string\""
        },
        {
         "metadata": "{}",
         "name": "km",
         "type": "\"string\""
        },
        {
         "metadata": "{}",
         "name": "municipio",
         "type": "\"string\""
        },
        {
         "metadata": "{}",
         "name": "causa_acidente",
         "type": "\"string\""
        },
        {
         "metadata": "{}",
         "name": "tipo_acidente",
         "type": "\"string\""
        },
        {
         "metadata": "{}",
         "name": "classificacao_acidente",
         "type": "\"string\""
        },
        {
         "metadata": "{}",
         "name": "fase_dia",
         "type": "\"string\""
        },
        {
         "metadata": "{}",
         "name": "sentido_via",
         "type": "\"string\""
        },
        {
         "metadata": "{}",
         "name": "condicao_metereologica",
         "type": "\"string\""
        },
        {
         "metadata": "{}",
         "name": "tipo_pista",
         "type": "\"string\""
        },
        {
         "metadata": "{}",
         "name": "tracado_via",
         "type": "\"string\""
        },
        {
         "metadata": "{}",
         "name": "uso_solo",
         "type": "\"string\""
        },
        {
         "metadata": "{}",
         "name": "ano",
         "type": "\"string\""
        },
        {
         "metadata": "{}",
         "name": "pessoas",
         "type": "\"long\""
        },
        {
         "metadata": "{}",
         "name": "mortos",
         "type": "\"long\""
        },
        {
         "metadata": "{}",
         "name": "feridos_leves",
         "type": "\"long\""
        },
        {
         "metadata": "{}",
         "name": "feridos_graves",
         "type": "\"long\""
        },
        {
         "metadata": "{}",
         "name": "ilesos",
         "type": "\"long\""
        },
        {
         "metadata": "{}",
         "name": "ignorados",
         "type": "\"long\""
        },
        {
         "metadata": "{}",
         "name": "feridos",
         "type": "\"long\""
        },
        {
         "metadata": "{}",
         "name": "veiculos",
         "type": "\"long\""
        },
        {
         "metadata": "{}",
         "name": "latitude",
         "type": "\"string\""
        },
        {
         "metadata": "{}",
         "name": "longitude",
         "type": "\"string\""
        },
        {
         "metadata": "{}",
         "name": "regional",
         "type": "\"string\""
        },
        {
         "metadata": "{}",
         "name": "delegacia",
         "type": "\"string\""
        },
        {
         "metadata": "{}",
         "name": "uop",
         "type": "\"string\""
        }
       ],
       "type": "table"
      }
     },
     "output_type": "display_data"
    }
   ],
   "source": [
    "%sql\n",
    "SELECT * FROM bronze.acidentes_transito limit 5;"
   ]
  },
  {
   "cell_type": "markdown",
   "metadata": {
    "application/vnd.databricks.v1+cell": {
     "cellMetadata": {
      "byteLimit": 2048000,
      "rowLimit": 10000
     },
     "inputWidgets": {},
     "nuid": "a3071bba-4bd7-4219-b149-f69cdf91a7c1",
     "showTitle": false,
     "tableResultSettingsMap": {},
     "title": ""
    }
   },
   "source": [
    "Com os dados brutos armazenados e validados, criou-se a camada silver, onde foram aplicados tratamentos nos campos."
   ]
  },
  {
   "cell_type": "code",
   "execution_count": 0,
   "metadata": {
    "application/vnd.databricks.v1+cell": {
     "cellMetadata": {
      "byteLimit": 2048000,
      "implicitDf": true,
      "rowLimit": 10000
     },
     "inputWidgets": {},
     "nuid": "28b54cd7-1cb6-4222-8b9e-e901e17b98f1",
     "showTitle": false,
     "tableResultSettingsMap": {},
     "title": ""
    }
   },
   "outputs": [
    {
     "output_type": "display_data",
     "data": {
      "text/html": [
       "<style scoped>\n",
       "  .table-result-container {\n",
       "    max-height: 300px;\n",
       "    overflow: auto;\n",
       "  }\n",
       "  table, th, td {\n",
       "    border: 1px solid black;\n",
       "    border-collapse: collapse;\n",
       "  }\n",
       "  th, td {\n",
       "    padding: 5px;\n",
       "  }\n",
       "  th {\n",
       "    text-align: left;\n",
       "  }\n",
       "</style><div class='table-result-container'><table class='table-result'><thead style='background-color: white'><tr></tr></thead><tbody></tbody></table></div>"
      ]
     },
     "metadata": {
      "application/vnd.databricks.v1+output": {
       "addedWidgets": {},
       "aggData": [],
       "aggError": "",
       "aggOverflow": false,
       "aggSchema": [],
       "aggSeriesLimitReached": false,
       "aggType": "",
       "arguments": {},
       "columnCustomDisplayInfos": {},
       "data": [],
       "datasetInfos": [],
       "dbfsResultPath": null,
       "isJsonSchema": true,
       "metadata": {},
       "overflow": false,
       "plotOptions": {
        "customPlotOptions": {},
        "displayType": "table",
        "pivotAggregation": null,
        "pivotColumns": null,
        "xColumns": null,
        "yColumns": null
       },
       "removedWidgets": [],
       "schema": [],
       "type": "table"
      }
     },
     "output_type": "display_data"
    }
   ],
   "source": [
    "%sql\n",
    "DROP DATABASE IF EXISTS silver CASCADE;"
   ]
  },
  {
   "cell_type": "code",
   "execution_count": 0,
   "metadata": {
    "application/vnd.databricks.v1+cell": {
     "cellMetadata": {
      "byteLimit": 2048000,
      "implicitDf": true,
      "rowLimit": 10000
     },
     "inputWidgets": {},
     "nuid": "ce6567ec-eeb1-4f2c-9b03-cdb82584262c",
     "showTitle": false,
     "tableResultSettingsMap": {},
     "title": ""
    }
   },
   "outputs": [
    {
     "output_type": "display_data",
     "data": {
      "text/html": [
       "<style scoped>\n",
       "  .table-result-container {\n",
       "    max-height: 300px;\n",
       "    overflow: auto;\n",
       "  }\n",
       "  table, th, td {\n",
       "    border: 1px solid black;\n",
       "    border-collapse: collapse;\n",
       "  }\n",
       "  th, td {\n",
       "    padding: 5px;\n",
       "  }\n",
       "  th {\n",
       "    text-align: left;\n",
       "  }\n",
       "</style><div class='table-result-container'><table class='table-result'><thead style='background-color: white'><tr></tr></thead><tbody></tbody></table></div>"
      ]
     },
     "metadata": {
      "application/vnd.databricks.v1+output": {
       "addedWidgets": {},
       "aggData": [],
       "aggError": "",
       "aggOverflow": false,
       "aggSchema": [],
       "aggSeriesLimitReached": false,
       "aggType": "",
       "arguments": {},
       "columnCustomDisplayInfos": {},
       "data": [],
       "datasetInfos": [],
       "dbfsResultPath": null,
       "isJsonSchema": true,
       "metadata": {},
       "overflow": false,
       "plotOptions": {
        "customPlotOptions": {},
        "displayType": "table",
        "pivotAggregation": null,
        "pivotColumns": null,
        "xColumns": null,
        "yColumns": null
       },
       "removedWidgets": [],
       "schema": [],
       "type": "table"
      }
     },
     "output_type": "display_data"
    }
   ],
   "source": [
    "%sql \n",
    "CREATE DATABASE IF NOT EXISTS silver;\n"
   ]
  },
  {
   "cell_type": "markdown",
   "metadata": {
    "application/vnd.databricks.v1+cell": {
     "cellMetadata": {
      "byteLimit": 2048000,
      "rowLimit": 10000
     },
     "inputWidgets": {},
     "nuid": "8fd6f246-8543-4e89-81d4-3205ddc2a09c",
     "showTitle": false,
     "tableResultSettingsMap": {},
     "title": ""
    }
   },
   "source": [
    "As transformações realizadas na camada silver foram as seguintes:\n",
    "- Foi criada a coluna id_acidente, uma vez que a coluna id, existente na camada bronze, não era um identificador único, pois acidentes distintos estavam compartilhando o mesmo id.\n",
    "- Foram importados somente os campos relevante para o objetivo do trabalho como: pessoas, mortos, ilesos, ignorados, feridos, causa_acidente, uf, dia_semana, ano, e condicao_metereologica;\n",
    "- As siglas das unidades federativas foram substituídas pelos seus nomes completos para facilitar a interpretação das informações sobre as localizações dos acidentes;\n",
    "- Os dias da semana foram convertidos para letras minúsculas, mantendo os acentos e hífens;\n",
    "- As condições climáticas foram padronizadas sendo todas com letras minúsculas, mantendo acento e os valores 'ignorada' foram alterados para 'ignorado';\n",
    "-  Foi criada uma nova coluna (periodo_do_dia) que categoriza o horário do acidente em quatro períodos: manhã (entre 5h e 12h), tarde (entre 12h e 18h), noite (entre 18h e 22h) e madrugada (entre 22h e 5h). Embora o dataset já possuísse uma coluna relacionada ao horário, a classificação anterior não seguia um padrão tão claro;\n",
    "- Os valores \"NaN\" (Not a Number) e (null) foram excluídos, pois por serem poucas linhas não iriam impactar a análise.\n",
    "\n",
    "Essas transformações foram armazenadas na tabela acidentes_transito dentro da camada silver."
   ]
  },
  {
   "cell_type": "code",
   "execution_count": 0,
   "metadata": {
    "application/vnd.databricks.v1+cell": {
     "cellMetadata": {
      "byteLimit": 2048000,
      "implicitDf": true,
      "rowLimit": 10000
     },
     "inputWidgets": {},
     "nuid": "8fe46230-b4ab-4687-a213-8f298ae726d1",
     "showTitle": false,
     "tableResultSettingsMap": {},
     "title": ""
    }
   },
   "outputs": [
    {
     "output_type": "display_data",
     "data": {
      "text/html": [
       "<style scoped>\n",
       "  .table-result-container {\n",
       "    max-height: 300px;\n",
       "    overflow: auto;\n",
       "  }\n",
       "  table, th, td {\n",
       "    border: 1px solid black;\n",
       "    border-collapse: collapse;\n",
       "  }\n",
       "  th, td {\n",
       "    padding: 5px;\n",
       "  }\n",
       "  th {\n",
       "    text-align: left;\n",
       "  }\n",
       "</style><div class='table-result-container'><table class='table-result'><thead style='background-color: white'><tr><th>num_affected_rows</th><th>num_inserted_rows</th></tr></thead><tbody></tbody></table></div>"
      ]
     },
     "metadata": {
      "application/vnd.databricks.v1+output": {
       "addedWidgets": {},
       "aggData": [],
       "aggError": "",
       "aggOverflow": false,
       "aggSchema": [],
       "aggSeriesLimitReached": false,
       "aggType": "",
       "arguments": {},
       "columnCustomDisplayInfos": {},
       "data": [],
       "datasetInfos": [],
       "dbfsResultPath": null,
       "isJsonSchema": true,
       "metadata": {},
       "overflow": false,
       "plotOptions": {
        "customPlotOptions": {},
        "displayType": "table",
        "pivotAggregation": null,
        "pivotColumns": null,
        "xColumns": null,
        "yColumns": null
       },
       "removedWidgets": [],
       "schema": [
        {
         "metadata": "{}",
         "name": "num_affected_rows",
         "type": "\"long\""
        },
        {
         "metadata": "{}",
         "name": "num_inserted_rows",
         "type": "\"long\""
        }
       ],
       "type": "table"
      }
     },
     "output_type": "display_data"
    }
   ],
   "source": [
    "%sql\n",
    "\n",
    "CREATE TABLE silver.acidentes_transito AS\n",
    "SELECT\n",
    "    ROW_NUMBER() OVER (ORDER BY id) AS id_acidente,\n",
    "    pessoas, \n",
    "    mortos, \n",
    "    ilesos, \n",
    "    ignorados, \n",
    "    feridos, \n",
    "    causa_acidente, \n",
    "   \n",
    "    CASE uf\n",
    "        WHEN 'AC' THEN 'Acre'\n",
    "        WHEN 'AL' THEN 'Alagoas'\n",
    "        WHEN 'AP' THEN 'Amapá'\n",
    "        WHEN 'AM' THEN 'Amazonas'\n",
    "        WHEN 'BA' THEN 'Bahia'\n",
    "        WHEN 'CE' THEN 'Ceará'\n",
    "        WHEN 'DF' THEN 'Distrito Federal'\n",
    "        WHEN 'ES' THEN 'Espírito Santo'\n",
    "        WHEN 'GO' THEN 'Goiás'\n",
    "        WHEN 'MA' THEN 'Maranhão'\n",
    "        WHEN 'MT' THEN 'Mato Grosso'\n",
    "        WHEN 'MS' THEN 'Mato Grosso do Sul'\n",
    "        WHEN 'MG' THEN 'Minas Gerais'\n",
    "        WHEN 'PA' THEN 'Pará'\n",
    "        WHEN 'PB' THEN 'Paraíba'\n",
    "        WHEN 'PR' THEN 'Paraná'\n",
    "        WHEN 'PE' THEN 'Pernambuco'\n",
    "        WHEN 'PI' THEN 'Piauí'\n",
    "        WHEN 'RJ' THEN 'Rio de Janeiro'\n",
    "        WHEN 'RN' THEN 'Rio Grande do Norte'\n",
    "        WHEN 'RS' THEN 'Rio Grande do Sul'\n",
    "        WHEN 'RO' THEN 'Rondônia'\n",
    "        WHEN 'RR' THEN 'Roraima'\n",
    "        WHEN 'SC' THEN 'Santa Catarina'\n",
    "        WHEN 'SP' THEN 'São Paulo'\n",
    "        WHEN 'SE' THEN 'Sergipe'\n",
    "        WHEN 'TO' THEN 'Tocantins'\n",
    "    END AS uf,\n",
    "    \n",
    "    CASE LOWER(dia_semana)\n",
    "        WHEN 'segunda' THEN 'segunda-feira'\n",
    "        WHEN 'terca' THEN 'terça-feira'\n",
    "        WHEN 'terça' THEN 'terça-feira'\n",
    "        WHEN 'terca-feira' THEN 'terça-feira'\n",
    "        WHEN 'quarta' THEN 'quarta-feira'\n",
    "        WHEN 'quinta' THEN 'quinta-feira'\n",
    "        WHEN 'sexta' THEN 'sexta-feira'\n",
    "        WHEN 'sabado' THEN 'sábado'\n",
    "        WHEN 'sábado' THEN 'sábado'\n",
    "        WHEN 'domingo' THEN 'domingo'\n",
    "        ELSE dia_semana\n",
    "    END AS dia_semana, \n",
    "    ano, \n",
    "  \n",
    "    CASE LOWER(condicao_metereologica)\n",
    "        WHEN 'ceu claro' THEN 'céu claro'\n",
    "        WHEN 'ignorada' THEN 'ignorado'\n",
    "        ELSE LOWER(condicao_metereologica)\n",
    "    END AS condicao_metereologica,\n",
    "    \n",
    "    CASE \n",
    "        WHEN CAST(SUBSTRING(horario, 1, 2) AS INT) BETWEEN 5 AND 11 THEN 'manhã'\n",
    "        WHEN CAST(SUBSTRING(horario, 1, 2) AS INT) BETWEEN 12 AND 17 THEN 'tarde'\n",
    "        WHEN CAST(SUBSTRING(horario, 1, 2) AS INT) BETWEEN 18 AND 21 THEN 'noite'\n",
    "        ELSE 'madrugada'\n",
    "    END AS periodo_do_dia\n",
    "FROM bronze.acidentes_transito"
   ]
  },
  {
   "cell_type": "code",
   "execution_count": 0,
   "metadata": {
    "application/vnd.databricks.v1+cell": {
     "cellMetadata": {
      "byteLimit": 2048000,
      "implicitDf": true,
      "rowLimit": 10000
     },
     "inputWidgets": {},
     "nuid": "932b90c4-d7b2-4e1c-bb30-4c5dcf2a8979",
     "showTitle": false,
     "tableResultSettingsMap": {},
     "title": ""
    }
   },
   "outputs": [
    {
     "output_type": "display_data",
     "data": {
      "text/html": [
       "<style scoped>\n",
       "  .table-result-container {\n",
       "    max-height: 300px;\n",
       "    overflow: auto;\n",
       "  }\n",
       "  table, th, td {\n",
       "    border: 1px solid black;\n",
       "    border-collapse: collapse;\n",
       "  }\n",
       "  th, td {\n",
       "    padding: 5px;\n",
       "  }\n",
       "  th {\n",
       "    text-align: left;\n",
       "  }\n",
       "</style><div class='table-result-container'><table class='table-result'><thead style='background-color: white'><tr><th>num_affected_rows</th></tr></thead><tbody><tr><td>75</td></tr></tbody></table></div>"
      ]
     },
     "metadata": {
      "application/vnd.databricks.v1+output": {
       "addedWidgets": {},
       "aggData": [],
       "aggError": "",
       "aggOverflow": false,
       "aggSchema": [],
       "aggSeriesLimitReached": false,
       "aggType": "",
       "arguments": {},
       "columnCustomDisplayInfos": {},
       "data": [
        [
         75
        ]
       ],
       "datasetInfos": [],
       "dbfsResultPath": null,
       "isJsonSchema": true,
       "metadata": {},
       "overflow": false,
       "plotOptions": {
        "customPlotOptions": {},
        "displayType": "table",
        "pivotAggregation": null,
        "pivotColumns": null,
        "xColumns": null,
        "yColumns": null
       },
       "removedWidgets": [],
       "schema": [
        {
         "metadata": "{}",
         "name": "num_affected_rows",
         "type": "\"long\""
        }
       ],
       "type": "table"
      }
     },
     "output_type": "display_data"
    }
   ],
   "source": [
    "%sql\n",
    "DELETE FROM silver.acidentes_transito\n",
    "WHERE \n",
    "    id_acidente = '(null)' OR id_acidente = 'nan' OR id_acidente  IS NULL\n",
    "    OR pessoas = '(null)' OR pessoas = 'nan' OR pessoas IS NULL\n",
    "    OR mortos = '(null)' OR mortos = 'nan' OR mortos IS NULL\n",
    "    OR ilesos = '(null)' OR ilesos = 'nan' OR ilesos IS NULL\n",
    "    OR ignorados= '(null)' OR ignorados = 'nan' OR ignorados IS NULL\n",
    "    OR feridos = '(null)' OR feridos = 'nan' OR feridos IS NULL\n",
    "    OR causa_acidente = '(null)' OR causa_acidente = 'nan' OR causa_acidente IS NULL\n",
    "    OR uf = '(null)' OR uf = 'nan' OR uf IS NULL\n",
    "    OR dia_semana= '(null)' OR dia_semana = 'nan' OR dia_semana IS NULL\n",
    "    OR condicao_metereologica = '(null)' OR condicao_metereologica = 'nan' OR condicao_metereologica IS NULL\n",
    "    OR ano = '(null)' OR ano = 'nan' OR ano IS NULL\n",
    "    OR periodo_do_dia = '(null)' OR periodo_do_dia = 'nan' OR periodo_do_dia IS NULL;\n"
   ]
  },
  {
   "cell_type": "markdown",
   "metadata": {
    "application/vnd.databricks.v1+cell": {
     "cellMetadata": {
      "byteLimit": 2048000,
      "rowLimit": 10000
     },
     "inputWidgets": {},
     "nuid": "15e5a787-16c3-463b-8ac7-186ed4e308e6",
     "showTitle": false,
     "tableResultSettingsMap": {},
     "title": ""
    }
   },
   "source": [
    "Para validar os dados armazenados, foram realizadas duas consultas: a primeira contando o número total de registros na tabela, e a segunda exibindo as cinco primeiras linhas."
   ]
  },
  {
   "cell_type": "code",
   "execution_count": 0,
   "metadata": {
    "application/vnd.databricks.v1+cell": {
     "cellMetadata": {
      "byteLimit": 2048000,
      "implicitDf": true,
      "rowLimit": 10000
     },
     "inputWidgets": {},
     "nuid": "6e12df11-fa27-4533-b043-ff4829898473",
     "showTitle": false,
     "tableResultSettingsMap": {},
     "title": ""
    }
   },
   "outputs": [
    {
     "output_type": "display_data",
     "data": {
      "text/html": [
       "<style scoped>\n",
       "  .table-result-container {\n",
       "    max-height: 300px;\n",
       "    overflow: auto;\n",
       "  }\n",
       "  table, th, td {\n",
       "    border: 1px solid black;\n",
       "    border-collapse: collapse;\n",
       "  }\n",
       "  th, td {\n",
       "    padding: 5px;\n",
       "  }\n",
       "  th {\n",
       "    text-align: left;\n",
       "  }\n",
       "</style><div class='table-result-container'><table class='table-result'><thead style='background-color: white'><tr><th>count(1)</th></tr></thead><tbody><tr><td>1981242</td></tr></tbody></table></div>"
      ]
     },
     "metadata": {
      "application/vnd.databricks.v1+output": {
       "addedWidgets": {},
       "aggData": [],
       "aggError": "",
       "aggOverflow": false,
       "aggSchema": [],
       "aggSeriesLimitReached": false,
       "aggType": "",
       "arguments": {},
       "columnCustomDisplayInfos": {},
       "data": [
        [
         1981242
        ]
       ],
       "datasetInfos": [],
       "dbfsResultPath": null,
       "isJsonSchema": true,
       "metadata": {},
       "overflow": false,
       "plotOptions": {
        "customPlotOptions": {},
        "displayType": "table",
        "pivotAggregation": null,
        "pivotColumns": null,
        "xColumns": null,
        "yColumns": null
       },
       "removedWidgets": [],
       "schema": [
        {
         "metadata": "{\"__autoGeneratedAlias\":\"true\"}",
         "name": "count(1)",
         "type": "\"long\""
        }
       ],
       "type": "table"
      }
     },
     "output_type": "display_data"
    }
   ],
   "source": [
    "%sql\n",
    "SELECT COUNT(*) FROM silver.acidentes_transito;\n"
   ]
  },
  {
   "cell_type": "code",
   "execution_count": 0,
   "metadata": {
    "application/vnd.databricks.v1+cell": {
     "cellMetadata": {
      "byteLimit": 2048000,
      "implicitDf": true,
      "rowLimit": 10000
     },
     "inputWidgets": {},
     "nuid": "48e25e7c-35a1-4448-952c-12affc4b03f0",
     "showTitle": false,
     "tableResultSettingsMap": {},
     "title": ""
    }
   },
   "outputs": [
    {
     "output_type": "display_data",
     "data": {
      "text/html": [
       "<style scoped>\n",
       "  .table-result-container {\n",
       "    max-height: 300px;\n",
       "    overflow: auto;\n",
       "  }\n",
       "  table, th, td {\n",
       "    border: 1px solid black;\n",
       "    border-collapse: collapse;\n",
       "  }\n",
       "  th, td {\n",
       "    padding: 5px;\n",
       "  }\n",
       "  th {\n",
       "    text-align: left;\n",
       "  }\n",
       "</style><div class='table-result-container'><table class='table-result'><thead style='background-color: white'><tr><th>id_acidente</th><th>pessoas</th><th>mortos</th><th>ilesos</th><th>ignorados</th><th>feridos</th><th>causa_acidente</th><th>uf</th><th>dia_semana</th><th>ano</th><th>condicao_metereologica</th><th>periodo_do_dia</th></tr></thead><tbody><tr><td>1</td><td>1</td><td>0</td><td>0</td><td>0</td><td>1</td><td>Fenômenos da Natureza</td><td>Paraná</td><td>domingo</td><td>2017</td><td>chuva</td><td>madrugada</td></tr><tr><td>2</td><td>3</td><td>0</td><td>3</td><td>0</td><td>0</td><td>Defeito mecânico em veículo</td><td>Paraná</td><td>sábado</td><td>2014</td><td>céu claro</td><td>manhã</td></tr><tr><td>3</td><td>3</td><td>0</td><td>3</td><td>0</td><td>0</td><td>Defeito mecânico em veículo</td><td>Paraná</td><td>sábado</td><td>2014</td><td>chuva</td><td>manhã</td></tr><tr><td>4</td><td>1</td><td>0</td><td>1</td><td>0</td><td>0</td><td>Falta de Atenção à Condução</td><td>Santa Catarina</td><td>domingo</td><td>2017</td><td>chuva</td><td>madrugada</td></tr><tr><td>5</td><td>1</td><td>0</td><td>1</td><td>0</td><td>0</td><td>Ultrapassagem indevida</td><td>Bahia</td><td>segunda-feira</td><td>2014</td><td>chuva</td><td>noite</td></tr></tbody></table></div>"
      ]
     },
     "metadata": {
      "application/vnd.databricks.v1+output": {
       "addedWidgets": {},
       "aggData": [],
       "aggError": "",
       "aggOverflow": false,
       "aggSchema": [],
       "aggSeriesLimitReached": false,
       "aggType": "",
       "arguments": {},
       "columnCustomDisplayInfos": {},
       "data": [
        [
         1,
         1,
         0,
         0,
         0,
         1,
         "Fenômenos da Natureza",
         "Paraná",
         "domingo",
         "2017",
         "chuva",
         "madrugada"
        ],
        [
         2,
         3,
         0,
         3,
         0,
         0,
         "Defeito mecânico em veículo",
         "Paraná",
         "sábado",
         "2014",
         "céu claro",
         "manhã"
        ],
        [
         3,
         3,
         0,
         3,
         0,
         0,
         "Defeito mecânico em veículo",
         "Paraná",
         "sábado",
         "2014",
         "chuva",
         "manhã"
        ],
        [
         4,
         1,
         0,
         1,
         0,
         0,
         "Falta de Atenção à Condução",
         "Santa Catarina",
         "domingo",
         "2017",
         "chuva",
         "madrugada"
        ],
        [
         5,
         1,
         0,
         1,
         0,
         0,
         "Ultrapassagem indevida",
         "Bahia",
         "segunda-feira",
         "2014",
         "chuva",
         "noite"
        ]
       ],
       "datasetInfos": [],
       "dbfsResultPath": null,
       "isJsonSchema": true,
       "metadata": {},
       "overflow": false,
       "plotOptions": {
        "customPlotOptions": {},
        "displayType": "table",
        "pivotAggregation": null,
        "pivotColumns": null,
        "xColumns": null,
        "yColumns": null
       },
       "removedWidgets": [],
       "schema": [
        {
         "metadata": "{}",
         "name": "id_acidente",
         "type": "\"integer\""
        },
        {
         "metadata": "{}",
         "name": "pessoas",
         "type": "\"long\""
        },
        {
         "metadata": "{}",
         "name": "mortos",
         "type": "\"long\""
        },
        {
         "metadata": "{}",
         "name": "ilesos",
         "type": "\"long\""
        },
        {
         "metadata": "{}",
         "name": "ignorados",
         "type": "\"long\""
        },
        {
         "metadata": "{}",
         "name": "feridos",
         "type": "\"long\""
        },
        {
         "metadata": "{}",
         "name": "causa_acidente",
         "type": "\"string\""
        },
        {
         "metadata": "{}",
         "name": "uf",
         "type": "\"string\""
        },
        {
         "metadata": "{}",
         "name": "dia_semana",
         "type": "\"string\""
        },
        {
         "metadata": "{}",
         "name": "ano",
         "type": "\"string\""
        },
        {
         "metadata": "{}",
         "name": "condicao_metereologica",
         "type": "\"string\""
        },
        {
         "metadata": "{}",
         "name": "periodo_do_dia",
         "type": "\"string\""
        }
       ],
       "type": "table"
      }
     },
     "output_type": "display_data"
    }
   ],
   "source": [
    "%sql\n",
    "SELECT * FROM silver.acidentes_transito limit 5;"
   ]
  },
  {
   "cell_type": "markdown",
   "metadata": {
    "application/vnd.databricks.v1+cell": {
     "cellMetadata": {
      "byteLimit": 2048000,
      "rowLimit": 10000
     },
     "inputWidgets": {},
     "nuid": "2db9c197-988f-4011-b15c-96c4d127f972",
     "showTitle": false,
     "tableResultSettingsMap": {},
     "title": ""
    }
   },
   "source": [
    "Com os dados tratados e validados na camada silver, foi criada a camada gold, onde os dados refinados foram organizados seguindo a modelagem em estrela. Nessa modelagem a tabela fato fica no centro, armazenando as principais informações sobre os acidentes, como número de vítimas e gravidade. Ao redor, encontram-se as tabelas dimensionais, que fornecem descrições adicionais sobre os acidentes, como data, localidade e condição meteorológica."
   ]
  },
  {
   "cell_type": "markdown",
   "metadata": {
    "application/vnd.databricks.v1+cell": {
     "cellMetadata": {
      "byteLimit": 2048000,
      "rowLimit": 10000
     },
     "inputWidgets": {},
     "nuid": "e0534fad-f80a-4181-98bb-9eb63008adce",
     "showTitle": false,
     "tableResultSettingsMap": {},
     "title": ""
    }
   },
   "source": [
    "\n",
    "Primeiro criou-se a camada gold."
   ]
  },
  {
   "cell_type": "code",
   "execution_count": 0,
   "metadata": {
    "application/vnd.databricks.v1+cell": {
     "cellMetadata": {
      "byteLimit": 2048000,
      "implicitDf": true,
      "rowLimit": 10000
     },
     "inputWidgets": {},
     "nuid": "ea0b50cc-de89-49a4-9a2f-4b74fac3a700",
     "showTitle": false,
     "tableResultSettingsMap": {},
     "title": ""
    }
   },
   "outputs": [
    {
     "output_type": "display_data",
     "data": {
      "text/html": [
       "<style scoped>\n",
       "  .table-result-container {\n",
       "    max-height: 300px;\n",
       "    overflow: auto;\n",
       "  }\n",
       "  table, th, td {\n",
       "    border: 1px solid black;\n",
       "    border-collapse: collapse;\n",
       "  }\n",
       "  th, td {\n",
       "    padding: 5px;\n",
       "  }\n",
       "  th {\n",
       "    text-align: left;\n",
       "  }\n",
       "</style><div class='table-result-container'><table class='table-result'><thead style='background-color: white'><tr></tr></thead><tbody></tbody></table></div>"
      ]
     },
     "metadata": {
      "application/vnd.databricks.v1+output": {
       "addedWidgets": {},
       "aggData": [],
       "aggError": "",
       "aggOverflow": false,
       "aggSchema": [],
       "aggSeriesLimitReached": false,
       "aggType": "",
       "arguments": {},
       "columnCustomDisplayInfos": {},
       "data": [],
       "datasetInfos": [],
       "dbfsResultPath": null,
       "isJsonSchema": true,
       "metadata": {},
       "overflow": false,
       "plotOptions": {
        "customPlotOptions": {},
        "displayType": "table",
        "pivotAggregation": null,
        "pivotColumns": null,
        "xColumns": null,
        "yColumns": null
       },
       "removedWidgets": [],
       "schema": [],
       "type": "table"
      }
     },
     "output_type": "display_data"
    }
   ],
   "source": [
    "%sql\n",
    "DROP DATABASE IF EXISTS gold CASCADE;"
   ]
  },
  {
   "cell_type": "code",
   "execution_count": 0,
   "metadata": {
    "application/vnd.databricks.v1+cell": {
     "cellMetadata": {
      "byteLimit": 2048000,
      "implicitDf": true,
      "rowLimit": 10000
     },
     "inputWidgets": {},
     "nuid": "3bc604bd-826f-498a-8e18-2a89a3475181",
     "showTitle": false,
     "tableResultSettingsMap": {},
     "title": ""
    }
   },
   "outputs": [
    {
     "output_type": "display_data",
     "data": {
      "text/html": [
       "<style scoped>\n",
       "  .table-result-container {\n",
       "    max-height: 300px;\n",
       "    overflow: auto;\n",
       "  }\n",
       "  table, th, td {\n",
       "    border: 1px solid black;\n",
       "    border-collapse: collapse;\n",
       "  }\n",
       "  th, td {\n",
       "    padding: 5px;\n",
       "  }\n",
       "  th {\n",
       "    text-align: left;\n",
       "  }\n",
       "</style><div class='table-result-container'><table class='table-result'><thead style='background-color: white'><tr></tr></thead><tbody></tbody></table></div>"
      ]
     },
     "metadata": {
      "application/vnd.databricks.v1+output": {
       "addedWidgets": {},
       "aggData": [],
       "aggError": "",
       "aggOverflow": false,
       "aggSchema": [],
       "aggSeriesLimitReached": false,
       "aggType": "",
       "arguments": {},
       "columnCustomDisplayInfos": {},
       "data": [],
       "datasetInfos": [],
       "dbfsResultPath": null,
       "isJsonSchema": true,
       "metadata": {},
       "overflow": false,
       "plotOptions": {
        "customPlotOptions": {},
        "displayType": "table",
        "pivotAggregation": null,
        "pivotColumns": null,
        "xColumns": null,
        "yColumns": null
       },
       "removedWidgets": [],
       "schema": [],
       "type": "table"
      }
     },
     "output_type": "display_data"
    }
   ],
   "source": [
    "%sql \n",
    "CREATE DATABASE IF NOT EXISTS gold;\n"
   ]
  },
  {
   "cell_type": "markdown",
   "metadata": {
    "application/vnd.databricks.v1+cell": {
     "cellMetadata": {
      "byteLimit": 2048000,
      "rowLimit": 10000
     },
     "inputWidgets": {},
     "nuid": "d19628a0-9950-4c56-a6e2-989ec3a7ad92",
     "showTitle": false,
     "tableResultSettingsMap": {},
     "title": ""
    }
   },
   "source": [
    "Em seguida, foram criadas as tabelas dimensionais:\n",
    "- Dimensão data: contém informações sobre o dia da semana, período do dia, ano e um identificador único (id_data)."
   ]
  },
  {
   "cell_type": "code",
   "execution_count": 0,
   "metadata": {
    "application/vnd.databricks.v1+cell": {
     "cellMetadata": {
      "byteLimit": 2048000,
      "implicitDf": true,
      "rowLimit": 10000
     },
     "inputWidgets": {},
     "nuid": "2dc63d2b-1200-473c-81e7-bd476a88e6aa",
     "showTitle": false,
     "tableResultSettingsMap": {},
     "title": ""
    }
   },
   "outputs": [
    {
     "output_type": "display_data",
     "data": {
      "text/html": [
       "<style scoped>\n",
       "  .table-result-container {\n",
       "    max-height: 300px;\n",
       "    overflow: auto;\n",
       "  }\n",
       "  table, th, td {\n",
       "    border: 1px solid black;\n",
       "    border-collapse: collapse;\n",
       "  }\n",
       "  th, td {\n",
       "    padding: 5px;\n",
       "  }\n",
       "  th {\n",
       "    text-align: left;\n",
       "  }\n",
       "</style><div class='table-result-container'><table class='table-result'><thead style='background-color: white'><tr><th>num_affected_rows</th><th>num_inserted_rows</th></tr></thead><tbody></tbody></table></div>"
      ]
     },
     "metadata": {
      "application/vnd.databricks.v1+output": {
       "addedWidgets": {},
       "aggData": [],
       "aggError": "",
       "aggOverflow": false,
       "aggSchema": [],
       "aggSeriesLimitReached": false,
       "aggType": "",
       "arguments": {},
       "columnCustomDisplayInfos": {},
       "data": [],
       "datasetInfos": [],
       "dbfsResultPath": null,
       "isJsonSchema": true,
       "metadata": {},
       "overflow": false,
       "plotOptions": {
        "customPlotOptions": {},
        "displayType": "table",
        "pivotAggregation": null,
        "pivotColumns": null,
        "xColumns": null,
        "yColumns": null
       },
       "removedWidgets": [],
       "schema": [
        {
         "metadata": "{}",
         "name": "num_affected_rows",
         "type": "\"long\""
        },
        {
         "metadata": "{}",
         "name": "num_inserted_rows",
         "type": "\"long\""
        }
       ],
       "type": "table"
      }
     },
     "output_type": "display_data"
    }
   ],
   "source": [
    "%sql\n",
    "CREATE TABLE gold.dimensao_data AS\n",
    "SELECT \n",
    "    dia_semana,\n",
    "    periodo_do_dia,\n",
    "    ano,\n",
    "    ROW_NUMBER() OVER (ORDER BY dia_semana, periodo_do_dia, ano) AS id_data\n",
    "FROM (\n",
    "    SELECT DISTINCT dia_semana, periodo_do_dia, ano\n",
    "    FROM silver.acidentes_transito\n",
    ") subquery;\n"
   ]
  },
  {
   "cell_type": "markdown",
   "metadata": {
    "application/vnd.databricks.v1+cell": {
     "cellMetadata": {
      "byteLimit": 2048000,
      "rowLimit": 10000
     },
     "inputWidgets": {},
     "nuid": "11f263a4-a75b-41a8-9a0f-cf5e58844077",
     "showTitle": false,
     "tableResultSettingsMap": {},
     "title": ""
    }
   },
   "source": [
    "Pode-se ver a tabela criada abaixo:"
   ]
  },
  {
   "cell_type": "code",
   "execution_count": 0,
   "metadata": {
    "application/vnd.databricks.v1+cell": {
     "cellMetadata": {
      "byteLimit": 2048000,
      "implicitDf": true,
      "rowLimit": 10000
     },
     "inputWidgets": {},
     "nuid": "f1e20c53-4668-4aef-bd07-326edc8f7795",
     "showTitle": false,
     "tableResultSettingsMap": {},
     "title": ""
    }
   },
   "outputs": [
    {
     "output_type": "display_data",
     "data": {
      "text/html": [
       "<style scoped>\n",
       "  .table-result-container {\n",
       "    max-height: 300px;\n",
       "    overflow: auto;\n",
       "  }\n",
       "  table, th, td {\n",
       "    border: 1px solid black;\n",
       "    border-collapse: collapse;\n",
       "  }\n",
       "  th, td {\n",
       "    padding: 5px;\n",
       "  }\n",
       "  th {\n",
       "    text-align: left;\n",
       "  }\n",
       "</style><div class='table-result-container'><table class='table-result'><thead style='background-color: white'><tr><th>dia_semana</th><th>periodo_do_dia</th><th>ano</th><th>id_data</th></tr></thead><tbody><tr><td>domingo</td><td>madrugada</td><td>2007</td><td>1</td></tr><tr><td>domingo</td><td>madrugada</td><td>2008</td><td>2</td></tr><tr><td>domingo</td><td>madrugada</td><td>2009</td><td>3</td></tr><tr><td>domingo</td><td>madrugada</td><td>2010</td><td>4</td></tr><tr><td>domingo</td><td>madrugada</td><td>2011</td><td>5</td></tr></tbody></table></div>"
      ]
     },
     "metadata": {
      "application/vnd.databricks.v1+output": {
       "addedWidgets": {},
       "aggData": [],
       "aggError": "",
       "aggOverflow": false,
       "aggSchema": [],
       "aggSeriesLimitReached": false,
       "aggType": "",
       "arguments": {},
       "columnCustomDisplayInfos": {},
       "data": [
        [
         "domingo",
         "madrugada",
         "2007",
         1
        ],
        [
         "domingo",
         "madrugada",
         "2008",
         2
        ],
        [
         "domingo",
         "madrugada",
         "2009",
         3
        ],
        [
         "domingo",
         "madrugada",
         "2010",
         4
        ],
        [
         "domingo",
         "madrugada",
         "2011",
         5
        ]
       ],
       "datasetInfos": [],
       "dbfsResultPath": null,
       "isJsonSchema": true,
       "metadata": {},
       "overflow": false,
       "plotOptions": {
        "customPlotOptions": {},
        "displayType": "table",
        "pivotAggregation": null,
        "pivotColumns": null,
        "xColumns": null,
        "yColumns": null
       },
       "removedWidgets": [],
       "schema": [
        {
         "metadata": "{}",
         "name": "dia_semana",
         "type": "\"string\""
        },
        {
         "metadata": "{}",
         "name": "periodo_do_dia",
         "type": "\"string\""
        },
        {
         "metadata": "{}",
         "name": "ano",
         "type": "\"string\""
        },
        {
         "metadata": "{}",
         "name": "id_data",
         "type": "\"integer\""
        }
       ],
       "type": "table"
      }
     },
     "output_type": "display_data"
    }
   ],
   "source": [
    "%sql\n",
    "SELECT * FROM gold.dimensao_data LIMIT 5"
   ]
  },
  {
   "cell_type": "markdown",
   "metadata": {
    "application/vnd.databricks.v1+cell": {
     "cellMetadata": {
      "byteLimit": 2048000,
      "rowLimit": 10000
     },
     "inputWidgets": {},
     "nuid": "e480f25c-54db-413d-bce3-afc680bdbe7d",
     "showTitle": false,
     "tableResultSettingsMap": {},
     "title": ""
    }
   },
   "source": [
    "- Dimensão Localidade: armazena as unidades federativas (UF) e um identificador único (id_localidade)."
   ]
  },
  {
   "cell_type": "code",
   "execution_count": 0,
   "metadata": {
    "application/vnd.databricks.v1+cell": {
     "cellMetadata": {
      "byteLimit": 2048000,
      "implicitDf": true,
      "rowLimit": 10000
     },
     "inputWidgets": {},
     "nuid": "c9e56aa4-9b1f-4b26-adbd-5cf0ccffda84",
     "showTitle": false,
     "tableResultSettingsMap": {},
     "title": ""
    }
   },
   "outputs": [
    {
     "output_type": "display_data",
     "data": {
      "text/html": [
       "<style scoped>\n",
       "  .table-result-container {\n",
       "    max-height: 300px;\n",
       "    overflow: auto;\n",
       "  }\n",
       "  table, th, td {\n",
       "    border: 1px solid black;\n",
       "    border-collapse: collapse;\n",
       "  }\n",
       "  th, td {\n",
       "    padding: 5px;\n",
       "  }\n",
       "  th {\n",
       "    text-align: left;\n",
       "  }\n",
       "</style><div class='table-result-container'><table class='table-result'><thead style='background-color: white'><tr><th>num_affected_rows</th><th>num_inserted_rows</th></tr></thead><tbody></tbody></table></div>"
      ]
     },
     "metadata": {
      "application/vnd.databricks.v1+output": {
       "addedWidgets": {},
       "aggData": [],
       "aggError": "",
       "aggOverflow": false,
       "aggSchema": [],
       "aggSeriesLimitReached": false,
       "aggType": "",
       "arguments": {},
       "columnCustomDisplayInfos": {},
       "data": [],
       "datasetInfos": [],
       "dbfsResultPath": null,
       "isJsonSchema": true,
       "metadata": {},
       "overflow": false,
       "plotOptions": {
        "customPlotOptions": {},
        "displayType": "table",
        "pivotAggregation": null,
        "pivotColumns": null,
        "xColumns": null,
        "yColumns": null
       },
       "removedWidgets": [],
       "schema": [
        {
         "metadata": "{}",
         "name": "num_affected_rows",
         "type": "\"long\""
        },
        {
         "metadata": "{}",
         "name": "num_inserted_rows",
         "type": "\"long\""
        }
       ],
       "type": "table"
      }
     },
     "output_type": "display_data"
    }
   ],
   "source": [
    "%sql\n",
    "CREATE TABLE gold.dimensao_localidade AS\n",
    "SELECT \n",
    "    uf,\n",
    "    ROW_NUMBER() OVER (ORDER BY uf) AS id_localidade\n",
    "FROM (\n",
    "    SELECT DISTINCT uf\n",
    "    FROM silver.acidentes_transito\n",
    ") subquery;"
   ]
  },
  {
   "cell_type": "markdown",
   "metadata": {
    "application/vnd.databricks.v1+cell": {
     "cellMetadata": {
      "byteLimit": 2048000,
      "rowLimit": 10000
     },
     "inputWidgets": {},
     "nuid": "f662371a-898c-4a7f-9f14-e4c7e9a56b77",
     "showTitle": false,
     "tableResultSettingsMap": {},
     "title": ""
    }
   },
   "source": [
    "Pode-se ver a tabela criada abaixo:"
   ]
  },
  {
   "cell_type": "code",
   "execution_count": 0,
   "metadata": {
    "application/vnd.databricks.v1+cell": {
     "cellMetadata": {
      "byteLimit": 2048000,
      "implicitDf": true,
      "rowLimit": 10000
     },
     "inputWidgets": {},
     "nuid": "641e963e-af71-427a-ba3d-7d942ac874e5",
     "showTitle": false,
     "tableResultSettingsMap": {},
     "title": ""
    }
   },
   "outputs": [
    {
     "output_type": "display_data",
     "data": {
      "text/html": [
       "<style scoped>\n",
       "  .table-result-container {\n",
       "    max-height: 300px;\n",
       "    overflow: auto;\n",
       "  }\n",
       "  table, th, td {\n",
       "    border: 1px solid black;\n",
       "    border-collapse: collapse;\n",
       "  }\n",
       "  th, td {\n",
       "    padding: 5px;\n",
       "  }\n",
       "  th {\n",
       "    text-align: left;\n",
       "  }\n",
       "</style><div class='table-result-container'><table class='table-result'><thead style='background-color: white'><tr><th>uf</th><th>id_localidade</th></tr></thead><tbody><tr><td>Acre</td><td>1</td></tr><tr><td>Alagoas</td><td>2</td></tr><tr><td>Amapá</td><td>3</td></tr><tr><td>Amazonas</td><td>4</td></tr><tr><td>Bahia</td><td>5</td></tr></tbody></table></div>"
      ]
     },
     "metadata": {
      "application/vnd.databricks.v1+output": {
       "addedWidgets": {},
       "aggData": [],
       "aggError": "",
       "aggOverflow": false,
       "aggSchema": [],
       "aggSeriesLimitReached": false,
       "aggType": "",
       "arguments": {},
       "columnCustomDisplayInfos": {},
       "data": [
        [
         "Acre",
         1
        ],
        [
         "Alagoas",
         2
        ],
        [
         "Amapá",
         3
        ],
        [
         "Amazonas",
         4
        ],
        [
         "Bahia",
         5
        ]
       ],
       "datasetInfos": [],
       "dbfsResultPath": null,
       "isJsonSchema": true,
       "metadata": {},
       "overflow": false,
       "plotOptions": {
        "customPlotOptions": {},
        "displayType": "table",
        "pivotAggregation": null,
        "pivotColumns": null,
        "xColumns": null,
        "yColumns": null
       },
       "removedWidgets": [],
       "schema": [
        {
         "metadata": "{}",
         "name": "uf",
         "type": "\"string\""
        },
        {
         "metadata": "{}",
         "name": "id_localidade",
         "type": "\"integer\""
        }
       ],
       "type": "table"
      }
     },
     "output_type": "display_data"
    }
   ],
   "source": [
    "%sql\n",
    "select * from gold.dimensao_localidade LIMIT 5"
   ]
  },
  {
   "cell_type": "markdown",
   "metadata": {
    "application/vnd.databricks.v1+cell": {
     "cellMetadata": {
      "byteLimit": 2048000,
      "rowLimit": 10000
     },
     "inputWidgets": {},
     "nuid": "04c8b451-a0a8-4b67-afec-9b6340e0574c",
     "showTitle": false,
     "tableResultSettingsMap": {},
     "title": ""
    }
   },
   "source": [
    "- Dimensão Meteorologia: contém a condição meteorológica registrada no momento do acidente e um identificador único (id_meteorologia)."
   ]
  },
  {
   "cell_type": "code",
   "execution_count": 0,
   "metadata": {
    "application/vnd.databricks.v1+cell": {
     "cellMetadata": {
      "byteLimit": 2048000,
      "implicitDf": true,
      "rowLimit": 10000
     },
     "inputWidgets": {},
     "nuid": "f63b1806-246c-44e5-8536-faa8e418084d",
     "showTitle": false,
     "tableResultSettingsMap": {},
     "title": ""
    }
   },
   "outputs": [
    {
     "output_type": "display_data",
     "data": {
      "text/html": [
       "<style scoped>\n",
       "  .table-result-container {\n",
       "    max-height: 300px;\n",
       "    overflow: auto;\n",
       "  }\n",
       "  table, th, td {\n",
       "    border: 1px solid black;\n",
       "    border-collapse: collapse;\n",
       "  }\n",
       "  th, td {\n",
       "    padding: 5px;\n",
       "  }\n",
       "  th {\n",
       "    text-align: left;\n",
       "  }\n",
       "</style><div class='table-result-container'><table class='table-result'><thead style='background-color: white'><tr><th>num_affected_rows</th><th>num_inserted_rows</th></tr></thead><tbody></tbody></table></div>"
      ]
     },
     "metadata": {
      "application/vnd.databricks.v1+output": {
       "addedWidgets": {},
       "aggData": [],
       "aggError": "",
       "aggOverflow": false,
       "aggSchema": [],
       "aggSeriesLimitReached": false,
       "aggType": "",
       "arguments": {},
       "columnCustomDisplayInfos": {},
       "data": [],
       "datasetInfos": [],
       "dbfsResultPath": null,
       "isJsonSchema": true,
       "metadata": {},
       "overflow": false,
       "plotOptions": {
        "customPlotOptions": {},
        "displayType": "table",
        "pivotAggregation": null,
        "pivotColumns": null,
        "xColumns": null,
        "yColumns": null
       },
       "removedWidgets": [],
       "schema": [
        {
         "metadata": "{}",
         "name": "num_affected_rows",
         "type": "\"long\""
        },
        {
         "metadata": "{}",
         "name": "num_inserted_rows",
         "type": "\"long\""
        }
       ],
       "type": "table"
      }
     },
     "output_type": "display_data"
    }
   ],
   "source": [
    "%sql\n",
    "CREATE TABLE gold.dimensao_meteorologia AS\n",
    "SELECT \n",
    "    condicao_metereologica,\n",
    "    ROW_NUMBER() OVER (ORDER BY condicao_metereologica) AS id_meteorologia\n",
    "FROM (\n",
    "    SELECT DISTINCT condicao_metereologica\n",
    "    FROM silver.acidentes_transito\n",
    ") subquery;"
   ]
  },
  {
   "cell_type": "markdown",
   "metadata": {
    "application/vnd.databricks.v1+cell": {
     "cellMetadata": {
      "byteLimit": 2048000,
      "rowLimit": 10000
     },
     "inputWidgets": {},
     "nuid": "80e1f4bf-7db3-4048-9b7b-04d415956bc9",
     "showTitle": false,
     "tableResultSettingsMap": {},
     "title": ""
    }
   },
   "source": [
    "Pode-se ver a tabela criada abaixo:"
   ]
  },
  {
   "cell_type": "code",
   "execution_count": 0,
   "metadata": {
    "application/vnd.databricks.v1+cell": {
     "cellMetadata": {
      "byteLimit": 2048000,
      "implicitDf": true,
      "rowLimit": 10000
     },
     "inputWidgets": {},
     "nuid": "cc3fc464-df5b-4228-9d0b-1160a9dd9e0b",
     "showTitle": false,
     "tableResultSettingsMap": {},
     "title": ""
    }
   },
   "outputs": [
    {
     "output_type": "display_data",
     "data": {
      "text/html": [
       "<style scoped>\n",
       "  .table-result-container {\n",
       "    max-height: 300px;\n",
       "    overflow: auto;\n",
       "  }\n",
       "  table, th, td {\n",
       "    border: 1px solid black;\n",
       "    border-collapse: collapse;\n",
       "  }\n",
       "  th, td {\n",
       "    padding: 5px;\n",
       "  }\n",
       "  th {\n",
       "    text-align: left;\n",
       "  }\n",
       "</style><div class='table-result-container'><table class='table-result'><thead style='background-color: white'><tr><th>condicao_metereologica</th><th>id_meteorologia</th></tr></thead><tbody><tr><td>chuva</td><td>1</td></tr><tr><td>céu claro</td><td>2</td></tr><tr><td>garoa/chuvisco</td><td>3</td></tr><tr><td>granizo</td><td>4</td></tr><tr><td>ignorado</td><td>5</td></tr><tr><td>neve</td><td>6</td></tr><tr><td>nevoeiro/neblina</td><td>7</td></tr><tr><td>nublado</td><td>8</td></tr><tr><td>sol</td><td>9</td></tr><tr><td>vento</td><td>10</td></tr></tbody></table></div>"
      ]
     },
     "metadata": {
      "application/vnd.databricks.v1+output": {
       "addedWidgets": {},
       "aggData": [],
       "aggError": "",
       "aggOverflow": false,
       "aggSchema": [],
       "aggSeriesLimitReached": false,
       "aggType": "",
       "arguments": {},
       "columnCustomDisplayInfos": {},
       "data": [
        [
         "chuva",
         1
        ],
        [
         "céu claro",
         2
        ],
        [
         "garoa/chuvisco",
         3
        ],
        [
         "granizo",
         4
        ],
        [
         "ignorado",
         5
        ],
        [
         "neve",
         6
        ],
        [
         "nevoeiro/neblina",
         7
        ],
        [
         "nublado",
         8
        ],
        [
         "sol",
         9
        ],
        [
         "vento",
         10
        ]
       ],
       "datasetInfos": [],
       "dbfsResultPath": null,
       "isJsonSchema": true,
       "metadata": {},
       "overflow": false,
       "plotOptions": {
        "customPlotOptions": {},
        "displayType": "table",
        "pivotAggregation": null,
        "pivotColumns": null,
        "xColumns": null,
        "yColumns": null
       },
       "removedWidgets": [],
       "schema": [
        {
         "metadata": "{}",
         "name": "condicao_metereologica",
         "type": "\"string\""
        },
        {
         "metadata": "{}",
         "name": "id_meteorologia",
         "type": "\"integer\""
        }
       ],
       "type": "table"
      }
     },
     "output_type": "display_data"
    }
   ],
   "source": [
    "%sql\n",
    "select * from gold.dimensao_meteorologia"
   ]
  },
  {
   "cell_type": "markdown",
   "metadata": {
    "application/vnd.databricks.v1+cell": {
     "cellMetadata": {
      "byteLimit": 2048000,
      "rowLimit": 10000
     },
     "inputWidgets": {},
     "nuid": "0e7a9ad1-d765-48b5-968e-de9abe02faf8",
     "showTitle": false,
     "tableResultSettingsMap": {},
     "title": ""
    }
   },
   "source": [
    "Por fim, foi criada a tabela fato (fato_acidentes), que consolida as informações sobre os acidentes. Essa tabela inclui campos como pessoas, representando o número total de envolvidos em cada acidente, mortos, ilesos, ignorados, feridos e a causa do acidente.\n",
    "Além disso, foram adicionadas as chaves estrangeiras id_meteorologia, id_localidade e id_data, que conectam a tabela fato às dimensões criadas."
   ]
  },
  {
   "cell_type": "code",
   "execution_count": 0,
   "metadata": {
    "application/vnd.databricks.v1+cell": {
     "cellMetadata": {
      "byteLimit": 2048000,
      "implicitDf": true,
      "rowLimit": 10000
     },
     "inputWidgets": {},
     "nuid": "3a36f251-77f0-4386-ae17-420f80b41b45",
     "showTitle": false,
     "tableResultSettingsMap": {},
     "title": ""
    }
   },
   "outputs": [
    {
     "output_type": "display_data",
     "data": {
      "text/html": [
       "<style scoped>\n",
       "  .table-result-container {\n",
       "    max-height: 300px;\n",
       "    overflow: auto;\n",
       "  }\n",
       "  table, th, td {\n",
       "    border: 1px solid black;\n",
       "    border-collapse: collapse;\n",
       "  }\n",
       "  th, td {\n",
       "    padding: 5px;\n",
       "  }\n",
       "  th {\n",
       "    text-align: left;\n",
       "  }\n",
       "</style><div class='table-result-container'><table class='table-result'><thead style='background-color: white'><tr><th>num_affected_rows</th><th>num_inserted_rows</th></tr></thead><tbody></tbody></table></div>"
      ]
     },
     "metadata": {
      "application/vnd.databricks.v1+output": {
       "addedWidgets": {},
       "aggData": [],
       "aggError": "",
       "aggOverflow": false,
       "aggSchema": [],
       "aggSeriesLimitReached": false,
       "aggType": "",
       "arguments": {},
       "columnCustomDisplayInfos": {},
       "data": [],
       "datasetInfos": [],
       "dbfsResultPath": null,
       "isJsonSchema": true,
       "metadata": {},
       "overflow": false,
       "plotOptions": {
        "customPlotOptions": {},
        "displayType": "table",
        "pivotAggregation": null,
        "pivotColumns": null,
        "xColumns": null,
        "yColumns": null
       },
       "removedWidgets": [],
       "schema": [
        {
         "metadata": "{}",
         "name": "num_affected_rows",
         "type": "\"long\""
        },
        {
         "metadata": "{}",
         "name": "num_inserted_rows",
         "type": "\"long\""
        }
       ],
       "type": "table"
      }
     },
     "output_type": "display_data"
    }
   ],
   "source": [
    "%sql\n",
    "CREATE TABLE gold.fato_acidentes AS\n",
    "SELECT \n",
    "    s.id_acidente,\n",
    "    s.pessoas,\n",
    "    s.mortos,\n",
    "    s.ilesos,\n",
    "    s.ignorados,\n",
    "    s.feridos,\n",
    "    s.causa_acidente,\n",
    "    dm.id_meteorologia,\n",
    "    dl.id_localidade,\n",
    "    dd.id_data\n",
    "FROM silver.acidentes_transito s\n",
    "LEFT JOIN gold.dimensao_meteorologia dm\n",
    "    ON s.condicao_metereologica = dm.condicao_metereologica\n",
    "LEFT JOIN gold.dimensao_localidade dl\n",
    "    ON s.uf = dl.uf\n",
    "LEFT JOIN gold.dimensao_data dd\n",
    "    ON s.dia_semana = dd.dia_semana \n",
    "       AND s.ano = dd.ano \n",
    "       AND s.periodo_do_dia = dd.periodo_do_dia;\n"
   ]
  },
  {
   "cell_type": "markdown",
   "metadata": {
    "application/vnd.databricks.v1+cell": {
     "cellMetadata": {
      "byteLimit": 2048000,
      "rowLimit": 10000
     },
     "inputWidgets": {},
     "nuid": "c9d39119-c32c-4fbe-a822-f0e9720a890c",
     "showTitle": false,
     "tableResultSettingsMap": {},
     "title": ""
    }
   },
   "source": [
    "Para validar os dados armazenados, foram realizadas duas consultas: a primeira contando o número total de registros na tabela, e a segunda exibindo as cinco primeiras linhas."
   ]
  },
  {
   "cell_type": "code",
   "execution_count": 0,
   "metadata": {
    "application/vnd.databricks.v1+cell": {
     "cellMetadata": {
      "byteLimit": 2048000,
      "implicitDf": true,
      "rowLimit": 10000
     },
     "inputWidgets": {},
     "nuid": "4979bcf4-538e-4aa6-891e-95a997a47672",
     "showTitle": false,
     "tableResultSettingsMap": {},
     "title": ""
    }
   },
   "outputs": [
    {
     "output_type": "display_data",
     "data": {
      "text/html": [
       "<style scoped>\n",
       "  .table-result-container {\n",
       "    max-height: 300px;\n",
       "    overflow: auto;\n",
       "  }\n",
       "  table, th, td {\n",
       "    border: 1px solid black;\n",
       "    border-collapse: collapse;\n",
       "  }\n",
       "  th, td {\n",
       "    padding: 5px;\n",
       "  }\n",
       "  th {\n",
       "    text-align: left;\n",
       "  }\n",
       "</style><div class='table-result-container'><table class='table-result'><thead style='background-color: white'><tr><th>count(1)</th></tr></thead><tbody><tr><td>1981242</td></tr></tbody></table></div>"
      ]
     },
     "metadata": {
      "application/vnd.databricks.v1+output": {
       "addedWidgets": {},
       "aggData": [],
       "aggError": "",
       "aggOverflow": false,
       "aggSchema": [],
       "aggSeriesLimitReached": false,
       "aggType": "",
       "arguments": {},
       "columnCustomDisplayInfos": {},
       "data": [
        [
         1981242
        ]
       ],
       "datasetInfos": [],
       "dbfsResultPath": null,
       "isJsonSchema": true,
       "metadata": {},
       "overflow": false,
       "plotOptions": {
        "customPlotOptions": {},
        "displayType": "table",
        "pivotAggregation": null,
        "pivotColumns": null,
        "xColumns": null,
        "yColumns": null
       },
       "removedWidgets": [],
       "schema": [
        {
         "metadata": "{\"__autoGeneratedAlias\":\"true\"}",
         "name": "count(1)",
         "type": "\"long\""
        }
       ],
       "type": "table"
      }
     },
     "output_type": "display_data"
    }
   ],
   "source": [
    "%sql\n",
    "SELECT COUNT(*) FROM gold.fato_acidentes;\n"
   ]
  },
  {
   "cell_type": "code",
   "execution_count": 0,
   "metadata": {
    "application/vnd.databricks.v1+cell": {
     "cellMetadata": {
      "byteLimit": 2048000,
      "implicitDf": true,
      "rowLimit": 10000
     },
     "inputWidgets": {},
     "nuid": "27324036-962b-4f2a-bc35-22f24c0615d4",
     "showTitle": false,
     "tableResultSettingsMap": {},
     "title": ""
    }
   },
   "outputs": [
    {
     "output_type": "display_data",
     "data": {
      "text/html": [
       "<style scoped>\n",
       "  .table-result-container {\n",
       "    max-height: 300px;\n",
       "    overflow: auto;\n",
       "  }\n",
       "  table, th, td {\n",
       "    border: 1px solid black;\n",
       "    border-collapse: collapse;\n",
       "  }\n",
       "  th, td {\n",
       "    padding: 5px;\n",
       "  }\n",
       "  th {\n",
       "    text-align: left;\n",
       "  }\n",
       "</style><div class='table-result-container'><table class='table-result'><thead style='background-color: white'><tr><th>id_acidente</th><th>pessoas</th><th>mortos</th><th>ilesos</th><th>ignorados</th><th>feridos</th><th>causa_acidente</th><th>id_meteorologia</th><th>id_localidade</th><th>id_data</th></tr></thead><tbody><tr><td>1</td><td>1</td><td>0</td><td>0</td><td>0</td><td>1</td><td>Fenômenos da Natureza</td><td>1</td><td>14</td><td>11</td></tr><tr><td>2</td><td>3</td><td>0</td><td>3</td><td>0</td><td>0</td><td>Defeito mecânico em veículo</td><td>2</td><td>14</td><td>344</td></tr><tr><td>3</td><td>3</td><td>0</td><td>3</td><td>0</td><td>0</td><td>Defeito mecânico em veículo</td><td>1</td><td>14</td><td>344</td></tr><tr><td>4</td><td>1</td><td>0</td><td>1</td><td>0</td><td>0</td><td>Falta de Atenção à Condução</td><td>1</td><td>24</td><td>11</td></tr><tr><td>5</td><td>1</td><td>0</td><td>1</td><td>0</td><td>0</td><td>Ultrapassagem indevida</td><td>1</td><td>5</td><td>232</td></tr></tbody></table></div>"
      ]
     },
     "metadata": {
      "application/vnd.databricks.v1+output": {
       "addedWidgets": {},
       "aggData": [],
       "aggError": "",
       "aggOverflow": false,
       "aggSchema": [],
       "aggSeriesLimitReached": false,
       "aggType": "",
       "arguments": {},
       "columnCustomDisplayInfos": {},
       "data": [
        [
         1,
         1,
         0,
         0,
         0,
         1,
         "Fenômenos da Natureza",
         1,
         14,
         11
        ],
        [
         2,
         3,
         0,
         3,
         0,
         0,
         "Defeito mecânico em veículo",
         2,
         14,
         344
        ],
        [
         3,
         3,
         0,
         3,
         0,
         0,
         "Defeito mecânico em veículo",
         1,
         14,
         344
        ],
        [
         4,
         1,
         0,
         1,
         0,
         0,
         "Falta de Atenção à Condução",
         1,
         24,
         11
        ],
        [
         5,
         1,
         0,
         1,
         0,
         0,
         "Ultrapassagem indevida",
         1,
         5,
         232
        ]
       ],
       "datasetInfos": [],
       "dbfsResultPath": null,
       "isJsonSchema": true,
       "metadata": {},
       "overflow": false,
       "plotOptions": {
        "customPlotOptions": {},
        "displayType": "table",
        "pivotAggregation": null,
        "pivotColumns": null,
        "xColumns": null,
        "yColumns": null
       },
       "removedWidgets": [],
       "schema": [
        {
         "metadata": "{}",
         "name": "id_acidente",
         "type": "\"integer\""
        },
        {
         "metadata": "{}",
         "name": "pessoas",
         "type": "\"long\""
        },
        {
         "metadata": "{}",
         "name": "mortos",
         "type": "\"long\""
        },
        {
         "metadata": "{}",
         "name": "ilesos",
         "type": "\"long\""
        },
        {
         "metadata": "{}",
         "name": "ignorados",
         "type": "\"long\""
        },
        {
         "metadata": "{}",
         "name": "feridos",
         "type": "\"long\""
        },
        {
         "metadata": "{}",
         "name": "causa_acidente",
         "type": "\"string\""
        },
        {
         "metadata": "{}",
         "name": "id_meteorologia",
         "type": "\"integer\""
        },
        {
         "metadata": "{}",
         "name": "id_localidade",
         "type": "\"integer\""
        },
        {
         "metadata": "{}",
         "name": "id_data",
         "type": "\"integer\""
        }
       ],
       "type": "table"
      }
     },
     "output_type": "display_data"
    }
   ],
   "source": [
    "%sql\n",
    "select * from gold.fato_acidentes limit 5"
   ]
  },
  {
   "cell_type": "markdown",
   "metadata": {
    "application/vnd.databricks.v1+cell": {
     "cellMetadata": {
      "byteLimit": 2048000,
      "rowLimit": 10000
     },
     "inputWidgets": {},
     "nuid": "1be7d3d7-62b6-48c9-93b3-7298ab44bf3a",
     "showTitle": false,
     "tableResultSettingsMap": {},
     "title": ""
    }
   },
   "source": [
    "**Questionário**\n",
    "- A quantidade total de acidentes de trânsito nos estados brasileiros diminuiu ao longo do tempo? Houve um aumento no número de acidentes no período de 2007 até 2011 e depois os acidentes foram gradativiamente diminuindo, com um pequeno aumento a partir de 2021. Porém, de maneira geral, a tendência ao longo do tempo foi de redução.\n",
    "- A Lei Seca contribuiu para a redução dos acidentes de trânsito relacionados ao consumo de álcool? Com base nos dados a Lei Seca não impactou a quantidade de acidentes envolvendo álcool. Incluisive, entre 2010 e 2014, houve um aumento no número desses acidentes. No entanto, neste mesmo período, havia uma quantidade maior de acidentes em geral."
   ]
  },
  {
   "cell_type": "code",
   "execution_count": 0,
   "metadata": {
    "application/vnd.databricks.v1+cell": {
     "cellMetadata": {
      "byteLimit": 2048000,
      "implicitDf": true,
      "rowLimit": 10000
     },
     "inputWidgets": {},
     "nuid": "f5e0f577-0913-4008-ad65-65abce7c1883",
     "showTitle": false,
     "tableResultSettingsMap": {},
     "title": ""
    }
   },
   "outputs": [
    {
     "output_type": "display_data",
     "data": {
      "text/html": [
       "<style scoped>\n",
       "  .table-result-container {\n",
       "    max-height: 300px;\n",
       "    overflow: auto;\n",
       "  }\n",
       "  table, th, td {\n",
       "    border: 1px solid black;\n",
       "    border-collapse: collapse;\n",
       "  }\n",
       "  th, td {\n",
       "    padding: 5px;\n",
       "  }\n",
       "  th {\n",
       "    text-align: left;\n",
       "  }\n",
       "</style><div class='table-result-container'><table class='table-result'><thead style='background-color: white'><tr><th>Ano</th><th>Total_Acidentes</th><th>Total_Acidentes_Envolvendo_Alcool</th></tr></thead><tbody><tr><td>2007</td><td>127647</td><td>3104</td></tr><tr><td>2008</td><td>141035</td><td>3561</td></tr><tr><td>2009</td><td>158642</td><td>4813</td></tr><tr><td>2010</td><td>183458</td><td>6805</td></tr><tr><td>2011</td><td>192322</td><td>7559</td></tr><tr><td>2012</td><td>184558</td><td>7594</td></tr><tr><td>2013</td><td>186748</td><td>7527</td></tr><tr><td>2014</td><td>169197</td><td>7391</td></tr><tr><td>2015</td><td>122158</td><td>6745</td></tr><tr><td>2016</td><td>96360</td><td>6331</td></tr><tr><td>2017</td><td>89567</td><td>6448</td></tr><tr><td>2018</td><td>69332</td><td>5502</td></tr><tr><td>2019</td><td>67556</td><td>5815</td></tr><tr><td>2020</td><td>63576</td><td>5436</td></tr><tr><td>2021</td><td>64539</td><td>5005</td></tr><tr><td>2022</td><td>64547</td><td>4689</td></tr></tbody></table></div>"
      ]
     },
     "metadata": {
      "application/vnd.databricks.v1+output": {
       "addedWidgets": {},
       "aggData": [],
       "aggError": "",
       "aggOverflow": false,
       "aggSchema": [],
       "aggSeriesLimitReached": false,
       "aggType": "",
       "arguments": {},
       "columnCustomDisplayInfos": {},
       "data": [
        [
         "2007",
         127647,
         3104
        ],
        [
         "2008",
         141035,
         3561
        ],
        [
         "2009",
         158642,
         4813
        ],
        [
         "2010",
         183458,
         6805
        ],
        [
         "2011",
         192322,
         7559
        ],
        [
         "2012",
         184558,
         7594
        ],
        [
         "2013",
         186748,
         7527
        ],
        [
         "2014",
         169197,
         7391
        ],
        [
         "2015",
         122158,
         6745
        ],
        [
         "2016",
         96360,
         6331
        ],
        [
         "2017",
         89567,
         6448
        ],
        [
         "2018",
         69332,
         5502
        ],
        [
         "2019",
         67556,
         5815
        ],
        [
         "2020",
         63576,
         5436
        ],
        [
         "2021",
         64539,
         5005
        ],
        [
         "2022",
         64547,
         4689
        ]
       ],
       "datasetInfos": [],
       "dbfsResultPath": null,
       "isJsonSchema": true,
       "metadata": {},
       "overflow": false,
       "plotOptions": {
        "customPlotOptions": {},
        "displayType": "table",
        "pivotAggregation": null,
        "pivotColumns": null,
        "xColumns": null,
        "yColumns": null
       },
       "removedWidgets": [],
       "schema": [
        {
         "metadata": "{}",
         "name": "Ano",
         "type": "\"string\""
        },
        {
         "metadata": "{}",
         "name": "Total_Acidentes",
         "type": "\"long\""
        },
        {
         "metadata": "{}",
         "name": "Total_Acidentes_Envolvendo_Alcool",
         "type": "\"long\""
        }
       ],
       "type": "table"
      }
     },
     "output_type": "display_data"
    }
   ],
   "source": [
    "%sql\n",
    "SELECT \n",
    "    d.ano AS Ano, \n",
    "    COUNT(f.id_acidente) AS Total_Acidentes,\n",
    "    SUM(CASE \n",
    "        WHEN LOWER(f.causa_acidente) LIKE '%alcool%' OR LOWER(f.causa_acidente) LIKE '%álcool%' \n",
    "        THEN 1 \n",
    "        ELSE 0 \n",
    "    END) AS Total_Acidentes_Envolvendo_Alcool\n",
    "FROM gold.fato_acidentes f\n",
    "JOIN gold.dimensao_data d ON f.id_data = d.id_data\n",
    "GROUP BY d.ano\n",
    "ORDER BY d.ano;\n"
   ]
  },
  {
   "cell_type": "markdown",
   "metadata": {
    "application/vnd.databricks.v1+cell": {
     "cellMetadata": {
      "byteLimit": 2048000,
      "rowLimit": 10000
     },
     "inputWidgets": {},
     "nuid": "5a1750e1-0203-45fc-bbd4-fbb7decdf3d6",
     "showTitle": false,
     "tableResultSettingsMap": {},
     "title": ""
    }
   },
   "source": [
    "- Houve diminuição na fatalidade dos acidentes envolvendo álcool? Levando em consideração a variação da quantidade de acidentes envolvendo ácool, os dados indicam que não houve uma variação significativa na taxa de fatalidade. O número de mortes e feridos se manteve relativamente estável ao longo do tempo. No entanto, observou-se um aumento na quantidade de pessoas classificadas como \"ignorados\" nos registros."
   ]
  },
  {
   "cell_type": "code",
   "execution_count": 0,
   "metadata": {
    "application/vnd.databricks.v1+cell": {
     "cellMetadata": {
      "byteLimit": 2048000,
      "implicitDf": true,
      "rowLimit": 10000
     },
     "inputWidgets": {},
     "nuid": "12d2e34a-044f-44db-80e4-79a9db7b7247",
     "showTitle": false,
     "tableResultSettingsMap": {},
     "title": ""
    }
   },
   "outputs": [
    {
     "output_type": "display_data",
     "data": {
      "text/html": [
       "<style scoped>\n",
       "  .table-result-container {\n",
       "    max-height: 300px;\n",
       "    overflow: auto;\n",
       "  }\n",
       "  table, th, td {\n",
       "    border: 1px solid black;\n",
       "    border-collapse: collapse;\n",
       "  }\n",
       "  th, td {\n",
       "    padding: 5px;\n",
       "  }\n",
       "  th {\n",
       "    text-align: left;\n",
       "  }\n",
       "</style><div class='table-result-container'><table class='table-result'><thead style='background-color: white'><tr><th>Ano</th><th>Total_Acidentes_Envolvendo_Alcool</th><th>Total_Pessoas</th><th>Total_Ilesos</th><th>Total_Feridos</th><th>Total_Mortos</th><th>Total_Ignorados</th></tr></thead><tbody><tr><td>2007</td><td>3104</td><td>6881</td><td>3656</td><td>2915</td><td>180</td><td>129</td></tr><tr><td>2008</td><td>3561</td><td>7807</td><td>4166</td><td>3206</td><td>207</td><td>228</td></tr><tr><td>2009</td><td>4813</td><td>10554</td><td>5730</td><td>4211</td><td>249</td><td>364</td></tr><tr><td>2010</td><td>6805</td><td>15021</td><td>8391</td><td>5736</td><td>401</td><td>493</td></tr><tr><td>2011</td><td>7559</td><td>16416</td><td>9326</td><td>6182</td><td>345</td><td>562</td></tr><tr><td>2012</td><td>7594</td><td>16501</td><td>8983</td><td>6452</td><td>485</td><td>581</td></tr><tr><td>2013</td><td>7527</td><td>16600</td><td>8963</td><td>6516</td><td>430</td><td>691</td></tr><tr><td>2014</td><td>7391</td><td>16102</td><td>8487</td><td>6384</td><td>508</td><td>723</td></tr><tr><td>2015</td><td>6745</td><td>14631</td><td>7517</td><td>5880</td><td>480</td><td>754</td></tr><tr><td>2016</td><td>6331</td><td>14214</td><td>7161</td><td>5904</td><td>439</td><td>710</td></tr><tr><td>2017</td><td>6448</td><td>14990</td><td>7418</td><td>6034</td><td>455</td><td>1083</td></tr><tr><td>2018</td><td>5502</td><td>12716</td><td>6298</td><td>5265</td><td>332</td><td>821</td></tr><tr><td>2019</td><td>5815</td><td>13537</td><td>6594</td><td>5738</td><td>353</td><td>852</td></tr><tr><td>2020</td><td>5436</td><td>11882</td><td>5719</td><td>4865</td><td>373</td><td>925</td></tr><tr><td>2021</td><td>5005</td><td>10896</td><td>5558</td><td>4223</td><td>275</td><td>840</td></tr><tr><td>2022</td><td>4689</td><td>10444</td><td>5279</td><td>4162</td><td>233</td><td>770</td></tr></tbody></table></div>"
      ]
     },
     "metadata": {
      "application/vnd.databricks.v1+output": {
       "addedWidgets": {},
       "aggData": [],
       "aggError": "",
       "aggOverflow": false,
       "aggSchema": [],
       "aggSeriesLimitReached": false,
       "aggType": "",
       "arguments": {},
       "columnCustomDisplayInfos": {},
       "data": [
        [
         "2007",
         3104,
         6881,
         3656,
         2915,
         180,
         129
        ],
        [
         "2008",
         3561,
         7807,
         4166,
         3206,
         207,
         228
        ],
        [
         "2009",
         4813,
         10554,
         5730,
         4211,
         249,
         364
        ],
        [
         "2010",
         6805,
         15021,
         8391,
         5736,
         401,
         493
        ],
        [
         "2011",
         7559,
         16416,
         9326,
         6182,
         345,
         562
        ],
        [
         "2012",
         7594,
         16501,
         8983,
         6452,
         485,
         581
        ],
        [
         "2013",
         7527,
         16600,
         8963,
         6516,
         430,
         691
        ],
        [
         "2014",
         7391,
         16102,
         8487,
         6384,
         508,
         723
        ],
        [
         "2015",
         6745,
         14631,
         7517,
         5880,
         480,
         754
        ],
        [
         "2016",
         6331,
         14214,
         7161,
         5904,
         439,
         710
        ],
        [
         "2017",
         6448,
         14990,
         7418,
         6034,
         455,
         1083
        ],
        [
         "2018",
         5502,
         12716,
         6298,
         5265,
         332,
         821
        ],
        [
         "2019",
         5815,
         13537,
         6594,
         5738,
         353,
         852
        ],
        [
         "2020",
         5436,
         11882,
         5719,
         4865,
         373,
         925
        ],
        [
         "2021",
         5005,
         10896,
         5558,
         4223,
         275,
         840
        ],
        [
         "2022",
         4689,
         10444,
         5279,
         4162,
         233,
         770
        ]
       ],
       "datasetInfos": [],
       "dbfsResultPath": null,
       "isJsonSchema": true,
       "metadata": {},
       "overflow": false,
       "plotOptions": {
        "customPlotOptions": {},
        "displayType": "table",
        "pivotAggregation": null,
        "pivotColumns": null,
        "xColumns": null,
        "yColumns": null
       },
       "removedWidgets": [],
       "schema": [
        {
         "metadata": "{}",
         "name": "Ano",
         "type": "\"string\""
        },
        {
         "metadata": "{}",
         "name": "Total_Acidentes_Envolvendo_Alcool",
         "type": "\"long\""
        },
        {
         "metadata": "{}",
         "name": "Total_Pessoas",
         "type": "\"long\""
        },
        {
         "metadata": "{}",
         "name": "Total_Ilesos",
         "type": "\"long\""
        },
        {
         "metadata": "{}",
         "name": "Total_Feridos",
         "type": "\"long\""
        },
        {
         "metadata": "{}",
         "name": "Total_Mortos",
         "type": "\"long\""
        },
        {
         "metadata": "{}",
         "name": "Total_Ignorados",
         "type": "\"long\""
        }
       ],
       "type": "table"
      }
     },
     "output_type": "display_data"
    }
   ],
   "source": [
    "%sql\n",
    "SELECT \n",
    "    d.ano AS Ano,\n",
    "    COUNT(f.id_acidente) AS Total_Acidentes_Envolvendo_Alcool,\n",
    "    SUM(f.pessoas) AS Total_Pessoas,\n",
    "    SUM(f.ilesos) AS Total_Ilesos,\n",
    "    SUM(f.feridos) AS Total_Feridos,\n",
    "    SUM(f.mortos) AS Total_Mortos,\n",
    "    SUM(f.ignorados) AS Total_Ignorados\n",
    "FROM gold.fato_acidentes f\n",
    "JOIN gold.dimensao_data d ON f.id_data = d.id_data\n",
    "WHERE LOWER(f.causa_acidente) LIKE '%alcool%' OR LOWER(f.causa_acidente) LIKE '%álcool%'\n",
    "GROUP BY d.ano\n",
    "ORDER BY d.ano;"
   ]
  },
  {
   "cell_type": "markdown",
   "metadata": {
    "application/vnd.databricks.v1+cell": {
     "cellMetadata": {
      "byteLimit": 2048000,
      "rowLimit": 10000
     },
     "inputWidgets": {},
     "nuid": "bb1d1a0d-053e-4301-abab-e0055e830a6d",
     "showTitle": false,
     "tableResultSettingsMap": {},
     "title": ""
    }
   },
   "source": [
    "- Há alguma condição meteorológica associada a um maior número de acidentes envolvendo álcool? Embora possa-se  pensar que condições que dificultam a visão do motorista contribuem mais para a ocorrência de acidentes, os dados mostram que a maioria dos acidentes envolvendo álcool ocorreu em dias de céu claro."
   ]
  },
  {
   "cell_type": "code",
   "execution_count": 0,
   "metadata": {
    "application/vnd.databricks.v1+cell": {
     "cellMetadata": {
      "byteLimit": 2048000,
      "implicitDf": true,
      "rowLimit": 10000
     },
     "inputWidgets": {},
     "nuid": "c1171eb6-8bd4-45d3-9ba3-54ef88fed9b8",
     "showTitle": false,
     "tableResultSettingsMap": {},
     "title": ""
    }
   },
   "outputs": [
    {
     "output_type": "display_data",
     "data": {
      "text/html": [
       "<style scoped>\n",
       "  .table-result-container {\n",
       "    max-height: 300px;\n",
       "    overflow: auto;\n",
       "  }\n",
       "  table, th, td {\n",
       "    border: 1px solid black;\n",
       "    border-collapse: collapse;\n",
       "  }\n",
       "  th, td {\n",
       "    padding: 5px;\n",
       "  }\n",
       "  th {\n",
       "    text-align: left;\n",
       "  }\n",
       "</style><div class='table-result-container'><table class='table-result'><thead style='background-color: white'><tr><th>Condicao_Meteorologica</th><th>Total_Acidentes_Envolvendo_Alcool</th></tr></thead><tbody><tr><td>céu claro</td><td>56036</td></tr><tr><td>nublado</td><td>19531</td></tr><tr><td>chuva</td><td>9120</td></tr><tr><td>sol</td><td>4938</td></tr><tr><td>ignorado</td><td>2077</td></tr><tr><td>garoa/chuvisco</td><td>1181</td></tr><tr><td>nevoeiro/neblina</td><td>1099</td></tr><tr><td>vento</td><td>331</td></tr><tr><td>neve</td><td>7</td></tr><tr><td>granizo</td><td>5</td></tr></tbody></table></div>"
      ]
     },
     "metadata": {
      "application/vnd.databricks.v1+output": {
       "addedWidgets": {},
       "aggData": [],
       "aggError": "",
       "aggOverflow": false,
       "aggSchema": [],
       "aggSeriesLimitReached": false,
       "aggType": "",
       "arguments": {},
       "columnCustomDisplayInfos": {},
       "data": [
        [
         "céu claro",
         56036
        ],
        [
         "nublado",
         19531
        ],
        [
         "chuva",
         9120
        ],
        [
         "sol",
         4938
        ],
        [
         "ignorado",
         2077
        ],
        [
         "garoa/chuvisco",
         1181
        ],
        [
         "nevoeiro/neblina",
         1099
        ],
        [
         "vento",
         331
        ],
        [
         "neve",
         7
        ],
        [
         "granizo",
         5
        ]
       ],
       "datasetInfos": [],
       "dbfsResultPath": null,
       "isJsonSchema": true,
       "metadata": {},
       "overflow": false,
       "plotOptions": {
        "customPlotOptions": {},
        "displayType": "table",
        "pivotAggregation": null,
        "pivotColumns": null,
        "xColumns": null,
        "yColumns": null
       },
       "removedWidgets": [],
       "schema": [
        {
         "metadata": "{}",
         "name": "Condicao_Meteorologica",
         "type": "\"string\""
        },
        {
         "metadata": "{}",
         "name": "Total_Acidentes_Envolvendo_Alcool",
         "type": "\"long\""
        }
       ],
       "type": "table"
      }
     },
     "output_type": "display_data"
    }
   ],
   "source": [
    "%sql\n",
    "SELECT \n",
    "    m.condicao_metereologica AS Condicao_Meteorologica, \n",
    "    COUNT(f.id_acidente) AS Total_Acidentes_Envolvendo_Alcool\n",
    "FROM gold.fato_acidentes f\n",
    "JOIN gold.dimensao_meteorologia m ON f.id_meteorologia = m.id_meteorologia\n",
    "WHERE LOWER(f.causa_acidente) LIKE '%alcool%' OR LOWER(f.causa_acidente) LIKE '%álcool%'\n",
    "GROUP BY m.condicao_metereologica\n",
    "ORDER BY 2 DESC;"
   ]
  },
  {
   "cell_type": "markdown",
   "metadata": {
    "application/vnd.databricks.v1+cell": {
     "cellMetadata": {
      "byteLimit": 2048000,
      "rowLimit": 10000
     },
     "inputWidgets": {},
     "nuid": "bd63d30f-1a6e-4df3-90de-68690ba681db",
     "showTitle": false,
     "tableResultSettingsMap": {},
     "title": ""
    }
   },
   "source": [
    "\n",
    "- Existe algum dia da semana em que a incidência de acidentes relacionados ao consumo de álcool seja maior? Sim, a maioria dos acidentes relacionados ao consumo de álcool ocorreu no final de semana."
   ]
  },
  {
   "cell_type": "code",
   "execution_count": 0,
   "metadata": {
    "application/vnd.databricks.v1+cell": {
     "cellMetadata": {
      "byteLimit": 2048000,
      "implicitDf": true,
      "rowLimit": 10000
     },
     "inputWidgets": {},
     "nuid": "1524d8b0-b306-46d8-ae16-0bc46f5bd9f0",
     "showTitle": false,
     "tableResultSettingsMap": {},
     "title": ""
    }
   },
   "outputs": [
    {
     "output_type": "display_data",
     "data": {
      "text/html": [
       "<style scoped>\n",
       "  .table-result-container {\n",
       "    max-height: 300px;\n",
       "    overflow: auto;\n",
       "  }\n",
       "  table, th, td {\n",
       "    border: 1px solid black;\n",
       "    border-collapse: collapse;\n",
       "  }\n",
       "  th, td {\n",
       "    padding: 5px;\n",
       "  }\n",
       "  th {\n",
       "    text-align: left;\n",
       "  }\n",
       "</style><div class='table-result-container'><table class='table-result'><thead style='background-color: white'><tr><th>Dia_Semana</th><th>Total_Acidentes_Envolvendo_Alcool</th></tr></thead><tbody><tr><td>domingo</td><td>30257</td></tr><tr><td>sábado</td><td>25472</td></tr><tr><td>sexta-feira</td><td>11382</td></tr><tr><td>segunda-feira</td><td>7683</td></tr><tr><td>quinta-feira</td><td>7649</td></tr><tr><td>quarta-feira</td><td>6264</td></tr><tr><td>terça-feira</td><td>5618</td></tr></tbody></table></div>"
      ]
     },
     "metadata": {
      "application/vnd.databricks.v1+output": {
       "addedWidgets": {},
       "aggData": [],
       "aggError": "",
       "aggOverflow": false,
       "aggSchema": [],
       "aggSeriesLimitReached": false,
       "aggType": "",
       "arguments": {},
       "columnCustomDisplayInfos": {},
       "data": [
        [
         "domingo",
         30257
        ],
        [
         "sábado",
         25472
        ],
        [
         "sexta-feira",
         11382
        ],
        [
         "segunda-feira",
         7683
        ],
        [
         "quinta-feira",
         7649
        ],
        [
         "quarta-feira",
         6264
        ],
        [
         "terça-feira",
         5618
        ]
       ],
       "datasetInfos": [],
       "dbfsResultPath": null,
       "isJsonSchema": true,
       "metadata": {},
       "overflow": false,
       "plotOptions": {
        "customPlotOptions": {},
        "displayType": "table",
        "pivotAggregation": null,
        "pivotColumns": null,
        "xColumns": null,
        "yColumns": null
       },
       "removedWidgets": [],
       "schema": [
        {
         "metadata": "{}",
         "name": "Dia_Semana",
         "type": "\"string\""
        },
        {
         "metadata": "{}",
         "name": "Total_Acidentes_Envolvendo_Alcool",
         "type": "\"long\""
        }
       ],
       "type": "table"
      }
     },
     "output_type": "display_data"
    }
   ],
   "source": [
    "%sql\n",
    "SELECT \n",
    "    d.dia_semana As Dia_Semana, \n",
    "    COUNT(f.id_acidente) AS Total_Acidentes_Envolvendo_Alcool\n",
    "FROM gold.fato_acidentes f\n",
    "JOIN gold.dimensao_data d ON f.id_data = d.id_data\n",
    "WHERE LOWER(f.causa_acidente) LIKE '%alcool%' OR LOWER(f.causa_acidente) LIKE '%álcool%'\n",
    "GROUP BY d.dia_semana\n",
    "ORDER BY 2 DESC;"
   ]
  },
  {
   "cell_type": "markdown",
   "metadata": {
    "application/vnd.databricks.v1+cell": {
     "cellMetadata": {
      "byteLimit": 2048000,
      "rowLimit": 10000
     },
     "inputWidgets": {},
     "nuid": "6e541f8e-c00d-428b-b194-62085490c503",
     "showTitle": false,
     "tableResultSettingsMap": {},
     "title": ""
    }
   },
   "source": [
    "- Quais estados brasileiros tiveram redução dos acidentes envolvendo álcool ao longo do tempo? Essa é uma das perguntas mais interessantes para análise, mas, devido à visualização estar em formato tabular, tornou-se inviável identificar essa tendência. Podemos ver com alguma clareza que Santa Catarina e Paraná seguem como uf com maior quantidade de acidentes ao decorrer dos anos."
   ]
  },
  {
   "cell_type": "code",
   "execution_count": 0,
   "metadata": {
    "application/vnd.databricks.v1+cell": {
     "cellMetadata": {
      "byteLimit": 2048000,
      "implicitDf": true,
      "rowLimit": 10000
     },
     "inputWidgets": {},
     "nuid": "6ef0ef8a-9ab0-411b-ab1c-4f5148cdd7c6",
     "showTitle": false,
     "tableResultSettingsMap": {},
     "title": ""
    }
   },
   "outputs": [
    {
     "output_type": "display_data",
     "data": {
      "text/html": [
       "<style scoped>\n",
       "  .table-result-container {\n",
       "    max-height: 300px;\n",
       "    overflow: auto;\n",
       "  }\n",
       "  table, th, td {\n",
       "    border: 1px solid black;\n",
       "    border-collapse: collapse;\n",
       "  }\n",
       "  th, td {\n",
       "    padding: 5px;\n",
       "  }\n",
       "  th {\n",
       "    text-align: left;\n",
       "  }\n",
       "</style><div class='table-result-container'><table class='table-result'><thead style='background-color: white'><tr><th>Ano</th><th>UF</th><th>Total_Acidentes_Envolvendo_Alcool</th></tr></thead><tbody><tr><td>2007</td><td>Santa Catarina</td><td>550</td></tr><tr><td>2007</td><td>Minas Gerais</td><td>319</td></tr><tr><td>2007</td><td>Rio Grande do Sul</td><td>277</td></tr><tr><td>2007</td><td>Paraná</td><td>226</td></tr><tr><td>2007</td><td>Goiás</td><td>207</td></tr><tr><td>2007</td><td>Bahia</td><td>155</td></tr><tr><td>2007</td><td>Espírito Santo</td><td>135</td></tr><tr><td>2007</td><td>São Paulo</td><td>129</td></tr><tr><td>2007</td><td>Rio Grande do Norte</td><td>121</td></tr><tr><td>2007</td><td>Rondônia</td><td>108</td></tr><tr><td>2007</td><td>Paraíba</td><td>99</td></tr><tr><td>2007</td><td>Rio de Janeiro</td><td>94</td></tr><tr><td>2007</td><td>Pará</td><td>90</td></tr><tr><td>2007</td><td>Pernambuco</td><td>89</td></tr><tr><td>2007</td><td>Alagoas</td><td>57</td></tr><tr><td>2007</td><td>Maranhão</td><td>56</td></tr><tr><td>2007</td><td>Mato Grosso do Sul</td><td>54</td></tr><tr><td>2007</td><td>Piauí</td><td>53</td></tr><tr><td>2007</td><td>Roraima</td><td>48</td></tr><tr><td>2007</td><td>Sergipe</td><td>46</td></tr><tr><td>2007</td><td>Distrito Federal</td><td>45</td></tr><tr><td>2007</td><td>Mato Grosso</td><td>43</td></tr><tr><td>2007</td><td>Ceará</td><td>41</td></tr><tr><td>2007</td><td>Tocantins</td><td>30</td></tr><tr><td>2007</td><td>Acre</td><td>17</td></tr><tr><td>2007</td><td>Amapá</td><td>10</td></tr><tr><td>2007</td><td>Amazonas</td><td>5</td></tr><tr><td>2008</td><td>Santa Catarina</td><td>570</td></tr><tr><td>2008</td><td>Minas Gerais</td><td>422</td></tr><tr><td>2008</td><td>Paraná</td><td>291</td></tr><tr><td>2008</td><td>Rio Grande do Sul</td><td>283</td></tr><tr><td>2008</td><td>Goiás</td><td>259</td></tr><tr><td>2008</td><td>São Paulo</td><td>174</td></tr><tr><td>2008</td><td>Bahia</td><td>166</td></tr><tr><td>2008</td><td>Paraíba</td><td>146</td></tr><tr><td>2008</td><td>Espírito Santo</td><td>133</td></tr><tr><td>2008</td><td>Rondônia</td><td>131</td></tr><tr><td>2008</td><td>Pernambuco</td><td>123</td></tr><tr><td>2008</td><td>Rio Grande do Norte</td><td>110</td></tr><tr><td>2008</td><td>Rio de Janeiro</td><td>105</td></tr><tr><td>2008</td><td>Pará</td><td>96</td></tr><tr><td>2008</td><td>Ceará</td><td>82</td></tr><tr><td>2008</td><td>Alagoas</td><td>76</td></tr><tr><td>2008</td><td>Mato Grosso do Sul</td><td>62</td></tr><tr><td>2008</td><td>Distrito Federal</td><td>57</td></tr><tr><td>2008</td><td>Mato Grosso</td><td>56</td></tr><tr><td>2008</td><td>Maranhão</td><td>50</td></tr><tr><td>2008</td><td>Piauí</td><td>42</td></tr><tr><td>2008</td><td>Sergipe</td><td>37</td></tr><tr><td>2008</td><td>Tocantins</td><td>34</td></tr><tr><td>2008</td><td>Roraima</td><td>33</td></tr><tr><td>2008</td><td>Acre</td><td>9</td></tr><tr><td>2008</td><td>Amapá</td><td>8</td></tr><tr><td>2008</td><td>Amazonas</td><td>6</td></tr><tr><td>2009</td><td>Santa Catarina</td><td>768</td></tr><tr><td>2009</td><td>Paraná</td><td>605</td></tr><tr><td>2009</td><td>Minas Gerais</td><td>493</td></tr><tr><td>2009</td><td>Rio Grande do Sul</td><td>397</td></tr><tr><td>2009</td><td>Goiás</td><td>322</td></tr><tr><td>2009</td><td>Bahia</td><td>212</td></tr><tr><td>2009</td><td>Pernambuco</td><td>206</td></tr><tr><td>2009</td><td>São Paulo</td><td>176</td></tr><tr><td>2009</td><td>Paraíba</td><td>173</td></tr><tr><td>2009</td><td>Espírito Santo</td><td>167</td></tr><tr><td>2009</td><td>Rondônia</td><td>154</td></tr><tr><td>2009</td><td>Rio Grande do Norte</td><td>146</td></tr><tr><td>2009</td><td>Rio de Janeiro</td><td>145</td></tr><tr><td>2009</td><td>Ceará</td><td>119</td></tr><tr><td>2009</td><td>Alagoas</td><td>99</td></tr><tr><td>2009</td><td>Pará</td><td>96</td></tr><tr><td>2009</td><td>Mato Grosso do Sul</td><td>79</td></tr><tr><td>2009</td><td>Mato Grosso</td><td>75</td></tr><tr><td>2009</td><td>Distrito Federal</td><td>71</td></tr><tr><td>2009</td><td>Piauí</td><td>70</td></tr><tr><td>2009</td><td>Sergipe</td><td>63</td></tr><tr><td>2009</td><td>Maranhão</td><td>57</td></tr><tr><td>2009</td><td>Tocantins</td><td>49</td></tr><tr><td>2009</td><td>Roraima</td><td>25</td></tr><tr><td>2009</td><td>Acre</td><td>20</td></tr><tr><td>2009</td><td>Amapá</td><td>15</td></tr><tr><td>2009</td><td>Amazonas</td><td>11</td></tr><tr><td>2010</td><td>Paraná</td><td>1097</td></tr><tr><td>2010</td><td>Santa Catarina</td><td>965</td></tr><tr><td>2010</td><td>Rio Grande do Sul</td><td>622</td></tr><tr><td>2010</td><td>Minas Gerais</td><td>605</td></tr><tr><td>2010</td><td>Goiás</td><td>426</td></tr><tr><td>2010</td><td>São Paulo</td><td>343</td></tr><tr><td>2010</td><td>Bahia</td><td>284</td></tr><tr><td>2010</td><td>Pernambuco</td><td>270</td></tr><tr><td>2010</td><td>Espírito Santo</td><td>218</td></tr><tr><td>2010</td><td>Paraíba</td><td>210</td></tr><tr><td>2010</td><td>Rio de Janeiro</td><td>203</td></tr><tr><td>2010</td><td>Rondônia</td><td>191</td></tr><tr><td>2010</td><td>Rio Grande do Norte</td><td>179</td></tr><tr><td>2010</td><td>Ceará</td><td>175</td></tr><tr><td>2010</td><td>Alagoas</td><td>158</td></tr><tr><td>2010</td><td>Mato Grosso do Sul</td><td>140</td></tr><tr><td>2010</td><td>Pará</td><td>134</td></tr><tr><td>2010</td><td>Piauí</td><td>109</td></tr><tr><td>2010</td><td>Mato Grosso</td><td>94</td></tr><tr><td>2010</td><td>Maranhão</td><td>91</td></tr><tr><td>2010</td><td>Distrito Federal</td><td>86</td></tr><tr><td>2010</td><td>Sergipe</td><td>72</td></tr><tr><td>2010</td><td>Tocantins</td><td>60</td></tr><tr><td>2010</td><td>Amapá</td><td>27</td></tr><tr><td>2010</td><td>Roraima</td><td>20</td></tr><tr><td>2010</td><td>Acre</td><td>13</td></tr><tr><td>2010</td><td>Amazonas</td><td>13</td></tr><tr><td>2011</td><td>Paraná</td><td>1102</td></tr><tr><td>2011</td><td>Santa Catarina</td><td>1068</td></tr><tr><td>2011</td><td>Minas Gerais</td><td>705</td></tr><tr><td>2011</td><td>Rio Grande do Sul</td><td>644</td></tr><tr><td>2011</td><td>Goiás</td><td>443</td></tr><tr><td>2011</td><td>São Paulo</td><td>425</td></tr><tr><td>2011</td><td>Bahia</td><td>373</td></tr><tr><td>2011</td><td>Pernambuco</td><td>354</td></tr><tr><td>2011</td><td>Rondônia</td><td>265</td></tr><tr><td>2011</td><td>Rio de Janeiro</td><td>251</td></tr><tr><td>2011</td><td>Espírito Santo</td><td>242</td></tr><tr><td>2011</td><td>Paraíba</td><td>202</td></tr><tr><td>2011</td><td>Rio Grande do Norte</td><td>200</td></tr><tr><td>2011</td><td>Ceará</td><td>168</td></tr><tr><td>2011</td><td>Pará</td><td>163</td></tr><tr><td>2011</td><td>Alagoas</td><td>159</td></tr><tr><td>2011</td><td>Mato Grosso do Sul</td><td>139</td></tr><tr><td>2011</td><td>Mato Grosso</td><td>122</td></tr><tr><td>2011</td><td>Piauí</td><td>114</td></tr><tr><td>2011</td><td>Distrito Federal</td><td>100</td></tr><tr><td>2011</td><td>Maranhão</td><td>89</td></tr><tr><td>2011</td><td>Sergipe</td><td>88</td></tr><tr><td>2011</td><td>Tocantins</td><td>55</td></tr><tr><td>2011</td><td>Acre</td><td>26</td></tr><tr><td>2011</td><td>Roraima</td><td>26</td></tr><tr><td>2011</td><td>Amapá</td><td>19</td></tr><tr><td>2011</td><td>Amazonas</td><td>17</td></tr><tr><td>2012</td><td>Santa Catarina</td><td>1137</td></tr><tr><td>2012</td><td>Paraná</td><td>1120</td></tr><tr><td>2012</td><td>Minas Gerais</td><td>756</td></tr><tr><td>2012</td><td>Rio Grande do Sul</td><td>599</td></tr><tr><td>2012</td><td>Goiás</td><td>410</td></tr><tr><td>2012</td><td>Pernambuco</td><td>369</td></tr><tr><td>2012</td><td>São Paulo</td><td>356</td></tr><tr><td>2012</td><td>Bahia</td><td>330</td></tr><tr><td>2012</td><td>Paraíba</td><td>300</td></tr><tr><td>2012</td><td>Rio de Janeiro</td><td>236</td></tr><tr><td>2012</td><td>Rondônia</td><td>209</td></tr><tr><td>2012</td><td>Espírito Santo</td><td>201</td></tr><tr><td>2012</td><td>Rio Grande do Norte</td><td>192</td></tr><tr><td>2012</td><td>Alagoas</td><td>192</td></tr><tr><td>2012</td><td>Mato Grosso do Sul</td><td>161</td></tr><tr><td>2012</td><td>Pará</td><td>157</td></tr><tr><td>2012</td><td>Ceará</td><td>152</td></tr><tr><td>2012</td><td>Mato Grosso</td><td>146</td></tr><tr><td>2012</td><td>Piauí</td><td>130</td></tr><tr><td>2012</td><td>Maranhão</td><td>104</td></tr><tr><td>2012</td><td>Sergipe</td><td>100</td></tr><tr><td>2012</td><td>Distrito Federal</td><td>88</td></tr><tr><td>2012</td><td>Tocantins</td><td>66</td></tr><tr><td>2012</td><td>Roraima</td><td>24</td></tr><tr><td>2012</td><td>Amapá</td><td>24</td></tr><tr><td>2012</td><td>Amazonas</td><td>19</td></tr><tr><td>2012</td><td>Acre</td><td>16</td></tr><tr><td>2013</td><td>Paraná</td><td>1130</td></tr><tr><td>2013</td><td>Santa Catarina</td><td>1002</td></tr><tr><td>2013</td><td>Minas Gerais</td><td>752</td></tr><tr><td>2013</td><td>Rio Grande do Sul</td><td>565</td></tr><tr><td>2013</td><td>São Paulo</td><td>398</td></tr><tr><td>2013</td><td>Goiás</td><td>375</td></tr><tr><td>2013</td><td>Pernambuco</td><td>372</td></tr><tr><td>2013</td><td>Bahia</td><td>329</td></tr><tr><td>2013</td><td>Rio de Janeiro</td><td>328</td></tr><tr><td>2013</td><td>Paraíba</td><td>295</td></tr><tr><td>2013</td><td>Espírito Santo</td><td>246</td></tr><tr><td>2013</td><td>Rio Grande do Norte</td><td>189</td></tr><tr><td>2013</td><td>Mato Grosso do Sul</td><td>188</td></tr><tr><td>2013</td><td>Alagoas</td><td>185</td></tr><tr><td>2013</td><td>Ceará</td><td>173</td></tr><tr><td>2013</td><td>Rondônia</td><td>164</td></tr><tr><td>2013</td><td>Mato Grosso</td><td>140</td></tr><tr><td>2013</td><td>Piauí</td><td>136</td></tr><tr><td>2013</td><td>Pará</td><td>127</td></tr><tr><td>2013</td><td>Maranhão</td><td>103</td></tr><tr><td>2013</td><td>Distrito Federal</td><td>85</td></tr><tr><td>2013</td><td>Tocantins</td><td>82</td></tr><tr><td>2013</td><td>Sergipe</td><td>76</td></tr><tr><td>2013</td><td>Roraima</td><td>37</td></tr><tr><td>2013</td><td>Amapá</td><td>30</td></tr><tr><td>2013</td><td>Acre</td><td>12</td></tr><tr><td>2013</td><td>Amazonas</td><td>8</td></tr><tr><td>2014</td><td>Paraná</td><td>1172</td></tr><tr><td>2014</td><td>Santa Catarina</td><td>981</td></tr><tr><td>2014</td><td>Minas Gerais</td><td>727</td></tr><tr><td>2014</td><td>Rio Grande do Sul</td><td>642</td></tr><tr><td>2014</td><td>Pernambuco</td><td>380</td></tr><tr><td>2014</td><td>São Paulo</td><td>371</td></tr><tr><td>2014</td><td>Goiás</td><td>369</td></tr><tr><td>2014</td><td>Bahia</td><td>359</td></tr><tr><td>2014</td><td>Paraíba</td><td>276</td></tr><tr><td>2014</td><td>Rio de Janeiro</td><td>242</td></tr><tr><td>2014</td><td>Espírito Santo</td><td>221</td></tr><tr><td>2014</td><td>Rio Grande do Norte</td><td>192</td></tr><tr><td>2014</td><td>Mato Grosso do Sul</td><td>189</td></tr><tr><td>2014</td><td>Mato Grosso</td><td>186</td></tr><tr><td>2014</td><td>Ceará</td><td>181</td></tr><tr><td>2014</td><td>Rondônia</td><td>149</td></tr><tr><td>2014</td><td>Pará</td><td>124</td></tr><tr><td>2014</td><td>Piauí</td><td>109</td></tr><tr><td>2014</td><td>Alagoas</td><td>94</td></tr><tr><td>2014</td><td>Distrito Federal</td><td>88</td></tr><tr><td>2014</td><td>Maranhão</td><td>88</td></tr><tr><td>2014</td><td>Sergipe</td><td>80</td></tr><tr><td>2014</td><td>Tocantins</td><td>77</td></tr><tr><td>2014</td><td>Roraima</td><td>38</td></tr><tr><td>2014</td><td>Amapá</td><td>36</td></tr><tr><td>2014</td><td>Acre</td><td>15</td></tr><tr><td>2014</td><td>Amazonas</td><td>5</td></tr><tr><td>2015</td><td>Paraná</td><td>937</td></tr><tr><td>2015</td><td>Santa Catarina</td><td>923</td></tr><tr><td>2015</td><td>Minas Gerais</td><td>592</td></tr><tr><td>2015</td><td>Rio Grande do Sul</td><td>583</td></tr><tr><td>2015</td><td>Goiás</td><td>458</td></tr><tr><td>2015</td><td>São Paulo</td><td>358</td></tr><tr><td>2015</td><td>Bahia</td><td>322</td></tr><tr><td>2015</td><td>Pernambuco</td><td>277</td></tr><tr><td>2015</td><td>Paraíba</td><td>252</td></tr><tr><td>2015</td><td>Mato Grosso</td><td>225</td></tr><tr><td>2015</td><td>Espírito Santo</td><td>209</td></tr><tr><td>2015</td><td>Rio de Janeiro</td><td>200</td></tr><tr><td>2015</td><td>Rio Grande do Norte</td><td>198</td></tr><tr><td>2015</td><td>Mato Grosso do Sul</td><td>190</td></tr><tr><td>2015</td><td>Ceará</td><td>162</td></tr><tr><td>2015</td><td>Pará</td><td>134</td></tr><tr><td>2015</td><td>Rondônia</td><td>130</td></tr><tr><td>2015</td><td>Piauí</td><td>130</td></tr><tr><td>2015</td><td>Distrito Federal</td><td>98</td></tr><tr><td>2015</td><td>Maranhão</td><td>75</td></tr><tr><td>2015</td><td>Alagoas</td><td>70</td></tr><tr><td>2015</td><td>Sergipe</td><td>68</td></tr><tr><td>2015</td><td>Tocantins</td><td>52</td></tr><tr><td>2015</td><td>Roraima</td><td>44</td></tr><tr><td>2015</td><td>Amapá</td><td>28</td></tr><tr><td>2015</td><td>Acre</td><td>24</td></tr><tr><td>2015</td><td>Amazonas</td><td>6</td></tr><tr><td>2016</td><td>Santa Catarina</td><td>859</td></tr><tr><td>2016</td><td>Paraná</td><td>845</td></tr><tr><td>2016</td><td>Minas Gerais</td><td>622</td></tr><tr><td>2016</td><td>Rio Grande do Sul</td><td>564</td></tr><tr><td>2016</td><td>Goiás</td><td>418</td></tr><tr><td>2016</td><td>São Paulo</td><td>337</td></tr><tr><td>2016</td><td>Bahia</td><td>289</td></tr><tr><td>2016</td><td>Pernambuco</td><td>244</td></tr><tr><td>2016</td><td>Mato Grosso do Sul</td><td>220</td></tr><tr><td>2016</td><td>Espírito Santo</td><td>212</td></tr><tr><td>2016</td><td>Mato Grosso</td><td>211</td></tr><tr><td>2016</td><td>Rio de Janeiro</td><td>204</td></tr><tr><td>2016</td><td>Paraíba</td><td>161</td></tr><tr><td>2016</td><td>Ceará</td><td>144</td></tr><tr><td>2016</td><td>Rio Grande do Norte</td><td>143</td></tr><tr><td>2016</td><td>Distrito Federal</td><td>133</td></tr><tr><td>2016</td><td>Rondônia</td><td>125</td></tr><tr><td>2016</td><td>Piauí</td><td>113</td></tr><tr><td>2016</td><td>Pará</td><td>109</td></tr><tr><td>2016</td><td>Tocantins</td><td>72</td></tr><tr><td>2016</td><td>Sergipe</td><td>67</td></tr><tr><td>2016</td><td>Maranhão</td><td>66</td></tr><tr><td>2016</td><td>Roraima</td><td>62</td></tr><tr><td>2016</td><td>Alagoas</td><td>57</td></tr><tr><td>2016</td><td>Amapá</td><td>27</td></tr><tr><td>2016</td><td>Acre</td><td>17</td></tr><tr><td>2016</td><td>Amazonas</td><td>10</td></tr><tr><td>2017</td><td>Santa Catarina</td><td>863</td></tr><tr><td>2017</td><td>Paraná</td><td>844</td></tr><tr><td>2017</td><td>Minas Gerais</td><td>588</td></tr><tr><td>2017</td><td>Rio Grande do Sul</td><td>482</td></tr><tr><td>2017</td><td>Goiás</td><td>375</td></tr><tr><td>2017</td><td>São Paulo</td><td>373</td></tr><tr><td>2017</td><td>Bahia</td><td>296</td></tr><tr><td>2017</td><td>Pernambuco</td><td>282</td></tr><tr><td>2017</td><td>Mato Grosso</td><td>254</td></tr><tr><td>2017</td><td>Rio de Janeiro</td><td>251</td></tr><tr><td>2017</td><td>Espírito Santo</td><td>201</td></tr><tr><td>2017</td><td>Rio Grande do Norte</td><td>193</td></tr><tr><td>2017</td><td>Paraíba</td><td>187</td></tr><tr><td>2017</td><td>Mato Grosso do Sul</td><td>173</td></tr><tr><td>2017</td><td>Piauí</td><td>144</td></tr><tr><td>2017</td><td>Pará</td><td>143</td></tr><tr><td>2017</td><td>Rondônia</td><td>141</td></tr><tr><td>2017</td><td>Ceará</td><td>134</td></tr><tr><td>2017</td><td>Distrito Federal</td><td>119</td></tr><tr><td>2017</td><td>Tocantins</td><td>85</td></tr><tr><td>2017</td><td>Maranhão</td><td>84</td></tr><tr><td>2017</td><td>Sergipe</td><td>81</td></tr><tr><td>2017</td><td>Alagoas</td><td>79</td></tr><tr><td>2017</td><td>Roraima</td><td>38</td></tr><tr><td>2017</td><td>Amapá</td><td>21</td></tr><tr><td>2017</td><td>Acre</td><td>10</td></tr><tr><td>2017</td><td>Amazonas</td><td>7</td></tr><tr><td>2018</td><td>Santa Catarina</td><td>774</td></tr><tr><td>2018</td><td>Paraná</td><td>633</td></tr><tr><td>2018</td><td>Minas Gerais</td><td>474</td></tr><tr><td>2018</td><td>Rio Grande do Sul</td><td>371</td></tr><tr><td>2018</td><td>Goiás</td><td>357</td></tr><tr><td>2018</td><td>São Paulo</td><td>310</td></tr><tr><td>2018</td><td>Bahia</td><td>264</td></tr><tr><td>2018</td><td>Pernambuco</td><td>246</td></tr><tr><td>2018</td><td>Mato Grosso</td><td>228</td></tr><tr><td>2018</td><td>Rio de Janeiro</td><td>206</td></tr><tr><td>2018</td><td>Mato Grosso do Sul</td><td>179</td></tr><tr><td>2018</td><td>Espírito Santo</td><td>163</td></tr><tr><td>2018</td><td>Paraíba</td><td>157</td></tr><tr><td>2018</td><td>Rondônia</td><td>151</td></tr><tr><td>2018</td><td>Rio Grande do Norte</td><td>146</td></tr><tr><td>2018</td><td>Piauí</td><td>136</td></tr><tr><td>2018</td><td>Pará</td><td>126</td></tr><tr><td>2018</td><td>Ceará</td><td>123</td></tr><tr><td>2018</td><td>Distrito Federal</td><td>108</td></tr><tr><td>2018</td><td>Maranhão</td><td>89</td></tr><tr><td>2018</td><td>Tocantins</td><td>63</td></tr><tr><td>2018</td><td>Sergipe</td><td>62</td></tr><tr><td>2018</td><td>Alagoas</td><td>57</td></tr><tr><td>2018</td><td>Roraima</td><td>39</td></tr><tr><td>2018</td><td>Amapá</td><td>17</td></tr><tr><td>2018</td><td>Acre</td><td>13</td></tr><tr><td>2018</td><td>Amazonas</td><td>10</td></tr><tr><td>2019</td><td>Santa Catarina</td><td>841</td></tr><tr><td>2019</td><td>Paraná</td><td>762</td></tr><tr><td>2019</td><td>Minas Gerais</td><td>474</td></tr><tr><td>2019</td><td>Rio Grande do Sul</td><td>458</td></tr><tr><td>2019</td><td>Goiás</td><td>376</td></tr><tr><td>2019</td><td>Bahia</td><td>306</td></tr><tr><td>2019</td><td>São Paulo</td><td>286</td></tr><tr><td>2019</td><td>Pernambuco</td><td>265</td></tr><tr><td>2019</td><td>Rio de Janeiro</td><td>225</td></tr><tr><td>2019</td><td>Mato Grosso</td><td>216</td></tr><tr><td>2019</td><td>Espírito Santo</td><td>184</td></tr><tr><td>2019</td><td>Paraíba</td><td>164</td></tr><tr><td>2019</td><td>Ceará</td><td>160</td></tr><tr><td>2019</td><td>Mato Grosso do Sul</td><td>157</td></tr><tr><td>2019</td><td>Rio Grande do Norte</td><td>147</td></tr><tr><td>2019</td><td>Piauí</td><td>142</td></tr><tr><td>2019</td><td>Rondônia</td><td>130</td></tr><tr><td>2019</td><td>Distrito Federal</td><td>120</td></tr><tr><td>2019</td><td>Maranhão</td><td>81</td></tr><tr><td>2019</td><td>Pará</td><td>79</td></tr><tr><td>2019</td><td>Tocantins</td><td>57</td></tr><tr><td>2019</td><td>Alagoas</td><td>56</td></tr><tr><td>2019</td><td>Sergipe</td><td>49</td></tr><tr><td>2019</td><td>Roraima</td><td>40</td></tr><tr><td>2019</td><td>Amapá</td><td>24</td></tr><tr><td>2019</td><td>Acre</td><td>10</td></tr><tr><td>2019</td><td>Amazonas</td><td>6</td></tr><tr><td>2020</td><td>Santa Catarina</td><td>726</td></tr><tr><td>2020</td><td>Paraná</td><td>682</td></tr><tr><td>2020</td><td>Minas Gerais</td><td>441</td></tr><tr><td>2020</td><td>Rio Grande do Sul</td><td>432</td></tr><tr><td>2020</td><td>Goiás</td><td>366</td></tr><tr><td>2020</td><td>Bahia</td><td>268</td></tr><tr><td>2020</td><td>São Paulo</td><td>265</td></tr><tr><td>2020</td><td>Pernambuco</td><td>247</td></tr><tr><td>2020</td><td>Rio de Janeiro</td><td>221</td></tr><tr><td>2020</td><td>Espírito Santo</td><td>193</td></tr><tr><td>2020</td><td>Mato Grosso</td><td>183</td></tr><tr><td>2020</td><td>Distrito Federal</td><td>164</td></tr><tr><td>2020</td><td>Paraíba</td><td>152</td></tr><tr><td>2020</td><td>Mato Grosso do Sul</td><td>148</td></tr><tr><td>2020</td><td>Ceará</td><td>141</td></tr><tr><td>2020</td><td>Rio Grande do Norte</td><td>134</td></tr><tr><td>2020</td><td>Rondônia</td><td>112</td></tr><tr><td>2020</td><td>Piauí</td><td>102</td></tr><tr><td>2020</td><td>Maranhão</td><td>100</td></tr><tr><td>2020</td><td>Pará</td><td>97</td></tr><tr><td>2020</td><td>Tocantins</td><td>63</td></tr><tr><td>2020</td><td>Alagoas</td><td>54</td></tr><tr><td>2020</td><td>Sergipe</td><td>54</td></tr><tr><td>2020</td><td>Roraima</td><td>40</td></tr><tr><td>2020</td><td>Amapá</td><td>21</td></tr><tr><td>2020</td><td>Amazonas</td><td>16</td></tr><tr><td>2020</td><td>Acre</td><td>14</td></tr><tr><td>2021</td><td>Santa Catarina</td><td>844</td></tr><tr><td>2021</td><td>Paraná</td><td>685</td></tr><tr><td>2021</td><td>Rio Grande do Sul</td><td>472</td></tr><tr><td>2021</td><td>Minas Gerais</td><td>413</td></tr><tr><td>2021</td><td>Goiás</td><td>333</td></tr><tr><td>2021</td><td>Bahia</td><td>241</td></tr><tr><td>2021</td><td>São Paulo</td><td>232</td></tr><tr><td>2021</td><td>Rio de Janeiro</td><td>226</td></tr><tr><td>2021</td><td>Pernambuco</td><td>198</td></tr><tr><td>2021</td><td>Mato Grosso</td><td>148</td></tr><tr><td>2021</td><td>Mato Grosso do Sul</td><td>144</td></tr><tr><td>2021</td><td>Espírito Santo</td><td>138</td></tr><tr><td>2021</td><td>Paraíba</td><td>119</td></tr><tr><td>2021</td><td>Distrito Federal</td><td>110</td></tr><tr><td>2021</td><td>Ceará</td><td>108</td></tr><tr><td>2021</td><td>Rondônia</td><td>106</td></tr><tr><td>2021</td><td>Rio Grande do Norte</td><td>93</td></tr><tr><td>2021</td><td>Maranhão</td><td>80</td></tr><tr><td>2021</td><td>Piauí</td><td>73</td></tr><tr><td>2021</td><td>Sergipe</td><td>54</td></tr><tr><td>2021</td><td>Pará</td><td>49</td></tr><tr><td>2021</td><td>Roraima</td><td>39</td></tr><tr><td>2021</td><td>Alagoas</td><td>38</td></tr><tr><td>2021</td><td>Tocantins</td><td>37</td></tr><tr><td>2021</td><td>Acre</td><td>12</td></tr><tr><td>2021</td><td>Amapá</td><td>12</td></tr><tr><td>2021</td><td>Amazonas</td><td>1</td></tr><tr><td>2022</td><td>Santa Catarina</td><td>714</td></tr><tr><td>2022</td><td>Paraná</td><td>623</td></tr><tr><td>2022</td><td>Rio Grande do Sul</td><td>494</td></tr><tr><td>2022</td><td>Minas Gerais</td><td>402</td></tr><tr><td>2022</td><td>Goiás</td><td>319</td></tr><tr><td>2022</td><td>Pernambuco</td><td>228</td></tr><tr><td>2022</td><td>Rio de Janeiro</td><td>219</td></tr><tr><td>2022</td><td>Bahia</td><td>210</td></tr><tr><td>2022</td><td>São Paulo</td><td>192</td></tr><tr><td>2022</td><td>Mato Grosso</td><td>180</td></tr><tr><td>2022</td><td>Mato Grosso do Sul</td><td>134</td></tr><tr><td>2022</td><td>Paraíba</td><td>124</td></tr><tr><td>2022</td><td>Rio Grande do Norte</td><td>108</td></tr><tr><td>2022</td><td>Ceará</td><td>93</td></tr><tr><td>2022</td><td>Espírito Santo</td><td>93</td></tr><tr><td>2022</td><td>Distrito Federal</td><td>88</td></tr><tr><td>2022</td><td>Rondônia</td><td>83</td></tr><tr><td>2022</td><td>Piauí</td><td>81</td></tr><tr><td>2022</td><td>Maranhão</td><td>72</td></tr><tr><td>2022</td><td>Alagoas</td><td>55</td></tr><tr><td>2022</td><td>Sergipe</td><td>43</td></tr><tr><td>2022</td><td>Tocantins</td><td>41</td></tr><tr><td>2022</td><td>Roraima</td><td>36</td></tr><tr><td>2022</td><td>Pará</td><td>26</td></tr><tr><td>2022</td><td>Amapá</td><td>15</td></tr><tr><td>2022</td><td>Acre</td><td>10</td></tr><tr><td>2022</td><td>Amazonas</td><td>6</td></tr></tbody></table></div>"
      ]
     },
     "metadata": {
      "application/vnd.databricks.v1+output": {
       "addedWidgets": {},
       "aggData": [],
       "aggError": "",
       "aggOverflow": false,
       "aggSchema": [],
       "aggSeriesLimitReached": false,
       "aggType": "",
       "arguments": {},
       "columnCustomDisplayInfos": {},
       "data": [
        [
         "2007",
         "Santa Catarina",
         550
        ],
        [
         "2007",
         "Minas Gerais",
         319
        ],
        [
         "2007",
         "Rio Grande do Sul",
         277
        ],
        [
         "2007",
         "Paraná",
         226
        ],
        [
         "2007",
         "Goiás",
         207
        ],
        [
         "2007",
         "Bahia",
         155
        ],
        [
         "2007",
         "Espírito Santo",
         135
        ],
        [
         "2007",
         "São Paulo",
         129
        ],
        [
         "2007",
         "Rio Grande do Norte",
         121
        ],
        [
         "2007",
         "Rondônia",
         108
        ],
        [
         "2007",
         "Paraíba",
         99
        ],
        [
         "2007",
         "Rio de Janeiro",
         94
        ],
        [
         "2007",
         "Pará",
         90
        ],
        [
         "2007",
         "Pernambuco",
         89
        ],
        [
         "2007",
         "Alagoas",
         57
        ],
        [
         "2007",
         "Maranhão",
         56
        ],
        [
         "2007",
         "Mato Grosso do Sul",
         54
        ],
        [
         "2007",
         "Piauí",
         53
        ],
        [
         "2007",
         "Roraima",
         48
        ],
        [
         "2007",
         "Sergipe",
         46
        ],
        [
         "2007",
         "Distrito Federal",
         45
        ],
        [
         "2007",
         "Mato Grosso",
         43
        ],
        [
         "2007",
         "Ceará",
         41
        ],
        [
         "2007",
         "Tocantins",
         30
        ],
        [
         "2007",
         "Acre",
         17
        ],
        [
         "2007",
         "Amapá",
         10
        ],
        [
         "2007",
         "Amazonas",
         5
        ],
        [
         "2008",
         "Santa Catarina",
         570
        ],
        [
         "2008",
         "Minas Gerais",
         422
        ],
        [
         "2008",
         "Paraná",
         291
        ],
        [
         "2008",
         "Rio Grande do Sul",
         283
        ],
        [
         "2008",
         "Goiás",
         259
        ],
        [
         "2008",
         "São Paulo",
         174
        ],
        [
         "2008",
         "Bahia",
         166
        ],
        [
         "2008",
         "Paraíba",
         146
        ],
        [
         "2008",
         "Espírito Santo",
         133
        ],
        [
         "2008",
         "Rondônia",
         131
        ],
        [
         "2008",
         "Pernambuco",
         123
        ],
        [
         "2008",
         "Rio Grande do Norte",
         110
        ],
        [
         "2008",
         "Rio de Janeiro",
         105
        ],
        [
         "2008",
         "Pará",
         96
        ],
        [
         "2008",
         "Ceará",
         82
        ],
        [
         "2008",
         "Alagoas",
         76
        ],
        [
         "2008",
         "Mato Grosso do Sul",
         62
        ],
        [
         "2008",
         "Distrito Federal",
         57
        ],
        [
         "2008",
         "Mato Grosso",
         56
        ],
        [
         "2008",
         "Maranhão",
         50
        ],
        [
         "2008",
         "Piauí",
         42
        ],
        [
         "2008",
         "Sergipe",
         37
        ],
        [
         "2008",
         "Tocantins",
         34
        ],
        [
         "2008",
         "Roraima",
         33
        ],
        [
         "2008",
         "Acre",
         9
        ],
        [
         "2008",
         "Amapá",
         8
        ],
        [
         "2008",
         "Amazonas",
         6
        ],
        [
         "2009",
         "Santa Catarina",
         768
        ],
        [
         "2009",
         "Paraná",
         605
        ],
        [
         "2009",
         "Minas Gerais",
         493
        ],
        [
         "2009",
         "Rio Grande do Sul",
         397
        ],
        [
         "2009",
         "Goiás",
         322
        ],
        [
         "2009",
         "Bahia",
         212
        ],
        [
         "2009",
         "Pernambuco",
         206
        ],
        [
         "2009",
         "São Paulo",
         176
        ],
        [
         "2009",
         "Paraíba",
         173
        ],
        [
         "2009",
         "Espírito Santo",
         167
        ],
        [
         "2009",
         "Rondônia",
         154
        ],
        [
         "2009",
         "Rio Grande do Norte",
         146
        ],
        [
         "2009",
         "Rio de Janeiro",
         145
        ],
        [
         "2009",
         "Ceará",
         119
        ],
        [
         "2009",
         "Alagoas",
         99
        ],
        [
         "2009",
         "Pará",
         96
        ],
        [
         "2009",
         "Mato Grosso do Sul",
         79
        ],
        [
         "2009",
         "Mato Grosso",
         75
        ],
        [
         "2009",
         "Distrito Federal",
         71
        ],
        [
         "2009",
         "Piauí",
         70
        ],
        [
         "2009",
         "Sergipe",
         63
        ],
        [
         "2009",
         "Maranhão",
         57
        ],
        [
         "2009",
         "Tocantins",
         49
        ],
        [
         "2009",
         "Roraima",
         25
        ],
        [
         "2009",
         "Acre",
         20
        ],
        [
         "2009",
         "Amapá",
         15
        ],
        [
         "2009",
         "Amazonas",
         11
        ],
        [
         "2010",
         "Paraná",
         1097
        ],
        [
         "2010",
         "Santa Catarina",
         965
        ],
        [
         "2010",
         "Rio Grande do Sul",
         622
        ],
        [
         "2010",
         "Minas Gerais",
         605
        ],
        [
         "2010",
         "Goiás",
         426
        ],
        [
         "2010",
         "São Paulo",
         343
        ],
        [
         "2010",
         "Bahia",
         284
        ],
        [
         "2010",
         "Pernambuco",
         270
        ],
        [
         "2010",
         "Espírito Santo",
         218
        ],
        [
         "2010",
         "Paraíba",
         210
        ],
        [
         "2010",
         "Rio de Janeiro",
         203
        ],
        [
         "2010",
         "Rondônia",
         191
        ],
        [
         "2010",
         "Rio Grande do Norte",
         179
        ],
        [
         "2010",
         "Ceará",
         175
        ],
        [
         "2010",
         "Alagoas",
         158
        ],
        [
         "2010",
         "Mato Grosso do Sul",
         140
        ],
        [
         "2010",
         "Pará",
         134
        ],
        [
         "2010",
         "Piauí",
         109
        ],
        [
         "2010",
         "Mato Grosso",
         94
        ],
        [
         "2010",
         "Maranhão",
         91
        ],
        [
         "2010",
         "Distrito Federal",
         86
        ],
        [
         "2010",
         "Sergipe",
         72
        ],
        [
         "2010",
         "Tocantins",
         60
        ],
        [
         "2010",
         "Amapá",
         27
        ],
        [
         "2010",
         "Roraima",
         20
        ],
        [
         "2010",
         "Acre",
         13
        ],
        [
         "2010",
         "Amazonas",
         13
        ],
        [
         "2011",
         "Paraná",
         1102
        ],
        [
         "2011",
         "Santa Catarina",
         1068
        ],
        [
         "2011",
         "Minas Gerais",
         705
        ],
        [
         "2011",
         "Rio Grande do Sul",
         644
        ],
        [
         "2011",
         "Goiás",
         443
        ],
        [
         "2011",
         "São Paulo",
         425
        ],
        [
         "2011",
         "Bahia",
         373
        ],
        [
         "2011",
         "Pernambuco",
         354
        ],
        [
         "2011",
         "Rondônia",
         265
        ],
        [
         "2011",
         "Rio de Janeiro",
         251
        ],
        [
         "2011",
         "Espírito Santo",
         242
        ],
        [
         "2011",
         "Paraíba",
         202
        ],
        [
         "2011",
         "Rio Grande do Norte",
         200
        ],
        [
         "2011",
         "Ceará",
         168
        ],
        [
         "2011",
         "Pará",
         163
        ],
        [
         "2011",
         "Alagoas",
         159
        ],
        [
         "2011",
         "Mato Grosso do Sul",
         139
        ],
        [
         "2011",
         "Mato Grosso",
         122
        ],
        [
         "2011",
         "Piauí",
         114
        ],
        [
         "2011",
         "Distrito Federal",
         100
        ],
        [
         "2011",
         "Maranhão",
         89
        ],
        [
         "2011",
         "Sergipe",
         88
        ],
        [
         "2011",
         "Tocantins",
         55
        ],
        [
         "2011",
         "Acre",
         26
        ],
        [
         "2011",
         "Roraima",
         26
        ],
        [
         "2011",
         "Amapá",
         19
        ],
        [
         "2011",
         "Amazonas",
         17
        ],
        [
         "2012",
         "Santa Catarina",
         1137
        ],
        [
         "2012",
         "Paraná",
         1120
        ],
        [
         "2012",
         "Minas Gerais",
         756
        ],
        [
         "2012",
         "Rio Grande do Sul",
         599
        ],
        [
         "2012",
         "Goiás",
         410
        ],
        [
         "2012",
         "Pernambuco",
         369
        ],
        [
         "2012",
         "São Paulo",
         356
        ],
        [
         "2012",
         "Bahia",
         330
        ],
        [
         "2012",
         "Paraíba",
         300
        ],
        [
         "2012",
         "Rio de Janeiro",
         236
        ],
        [
         "2012",
         "Rondônia",
         209
        ],
        [
         "2012",
         "Espírito Santo",
         201
        ],
        [
         "2012",
         "Rio Grande do Norte",
         192
        ],
        [
         "2012",
         "Alagoas",
         192
        ],
        [
         "2012",
         "Mato Grosso do Sul",
         161
        ],
        [
         "2012",
         "Pará",
         157
        ],
        [
         "2012",
         "Ceará",
         152
        ],
        [
         "2012",
         "Mato Grosso",
         146
        ],
        [
         "2012",
         "Piauí",
         130
        ],
        [
         "2012",
         "Maranhão",
         104
        ],
        [
         "2012",
         "Sergipe",
         100
        ],
        [
         "2012",
         "Distrito Federal",
         88
        ],
        [
         "2012",
         "Tocantins",
         66
        ],
        [
         "2012",
         "Roraima",
         24
        ],
        [
         "2012",
         "Amapá",
         24
        ],
        [
         "2012",
         "Amazonas",
         19
        ],
        [
         "2012",
         "Acre",
         16
        ],
        [
         "2013",
         "Paraná",
         1130
        ],
        [
         "2013",
         "Santa Catarina",
         1002
        ],
        [
         "2013",
         "Minas Gerais",
         752
        ],
        [
         "2013",
         "Rio Grande do Sul",
         565
        ],
        [
         "2013",
         "São Paulo",
         398
        ],
        [
         "2013",
         "Goiás",
         375
        ],
        [
         "2013",
         "Pernambuco",
         372
        ],
        [
         "2013",
         "Bahia",
         329
        ],
        [
         "2013",
         "Rio de Janeiro",
         328
        ],
        [
         "2013",
         "Paraíba",
         295
        ],
        [
         "2013",
         "Espírito Santo",
         246
        ],
        [
         "2013",
         "Rio Grande do Norte",
         189
        ],
        [
         "2013",
         "Mato Grosso do Sul",
         188
        ],
        [
         "2013",
         "Alagoas",
         185
        ],
        [
         "2013",
         "Ceará",
         173
        ],
        [
         "2013",
         "Rondônia",
         164
        ],
        [
         "2013",
         "Mato Grosso",
         140
        ],
        [
         "2013",
         "Piauí",
         136
        ],
        [
         "2013",
         "Pará",
         127
        ],
        [
         "2013",
         "Maranhão",
         103
        ],
        [
         "2013",
         "Distrito Federal",
         85
        ],
        [
         "2013",
         "Tocantins",
         82
        ],
        [
         "2013",
         "Sergipe",
         76
        ],
        [
         "2013",
         "Roraima",
         37
        ],
        [
         "2013",
         "Amapá",
         30
        ],
        [
         "2013",
         "Acre",
         12
        ],
        [
         "2013",
         "Amazonas",
         8
        ],
        [
         "2014",
         "Paraná",
         1172
        ],
        [
         "2014",
         "Santa Catarina",
         981
        ],
        [
         "2014",
         "Minas Gerais",
         727
        ],
        [
         "2014",
         "Rio Grande do Sul",
         642
        ],
        [
         "2014",
         "Pernambuco",
         380
        ],
        [
         "2014",
         "São Paulo",
         371
        ],
        [
         "2014",
         "Goiás",
         369
        ],
        [
         "2014",
         "Bahia",
         359
        ],
        [
         "2014",
         "Paraíba",
         276
        ],
        [
         "2014",
         "Rio de Janeiro",
         242
        ],
        [
         "2014",
         "Espírito Santo",
         221
        ],
        [
         "2014",
         "Rio Grande do Norte",
         192
        ],
        [
         "2014",
         "Mato Grosso do Sul",
         189
        ],
        [
         "2014",
         "Mato Grosso",
         186
        ],
        [
         "2014",
         "Ceará",
         181
        ],
        [
         "2014",
         "Rondônia",
         149
        ],
        [
         "2014",
         "Pará",
         124
        ],
        [
         "2014",
         "Piauí",
         109
        ],
        [
         "2014",
         "Alagoas",
         94
        ],
        [
         "2014",
         "Distrito Federal",
         88
        ],
        [
         "2014",
         "Maranhão",
         88
        ],
        [
         "2014",
         "Sergipe",
         80
        ],
        [
         "2014",
         "Tocantins",
         77
        ],
        [
         "2014",
         "Roraima",
         38
        ],
        [
         "2014",
         "Amapá",
         36
        ],
        [
         "2014",
         "Acre",
         15
        ],
        [
         "2014",
         "Amazonas",
         5
        ],
        [
         "2015",
         "Paraná",
         937
        ],
        [
         "2015",
         "Santa Catarina",
         923
        ],
        [
         "2015",
         "Minas Gerais",
         592
        ],
        [
         "2015",
         "Rio Grande do Sul",
         583
        ],
        [
         "2015",
         "Goiás",
         458
        ],
        [
         "2015",
         "São Paulo",
         358
        ],
        [
         "2015",
         "Bahia",
         322
        ],
        [
         "2015",
         "Pernambuco",
         277
        ],
        [
         "2015",
         "Paraíba",
         252
        ],
        [
         "2015",
         "Mato Grosso",
         225
        ],
        [
         "2015",
         "Espírito Santo",
         209
        ],
        [
         "2015",
         "Rio de Janeiro",
         200
        ],
        [
         "2015",
         "Rio Grande do Norte",
         198
        ],
        [
         "2015",
         "Mato Grosso do Sul",
         190
        ],
        [
         "2015",
         "Ceará",
         162
        ],
        [
         "2015",
         "Pará",
         134
        ],
        [
         "2015",
         "Rondônia",
         130
        ],
        [
         "2015",
         "Piauí",
         130
        ],
        [
         "2015",
         "Distrito Federal",
         98
        ],
        [
         "2015",
         "Maranhão",
         75
        ],
        [
         "2015",
         "Alagoas",
         70
        ],
        [
         "2015",
         "Sergipe",
         68
        ],
        [
         "2015",
         "Tocantins",
         52
        ],
        [
         "2015",
         "Roraima",
         44
        ],
        [
         "2015",
         "Amapá",
         28
        ],
        [
         "2015",
         "Acre",
         24
        ],
        [
         "2015",
         "Amazonas",
         6
        ],
        [
         "2016",
         "Santa Catarina",
         859
        ],
        [
         "2016",
         "Paraná",
         845
        ],
        [
         "2016",
         "Minas Gerais",
         622
        ],
        [
         "2016",
         "Rio Grande do Sul",
         564
        ],
        [
         "2016",
         "Goiás",
         418
        ],
        [
         "2016",
         "São Paulo",
         337
        ],
        [
         "2016",
         "Bahia",
         289
        ],
        [
         "2016",
         "Pernambuco",
         244
        ],
        [
         "2016",
         "Mato Grosso do Sul",
         220
        ],
        [
         "2016",
         "Espírito Santo",
         212
        ],
        [
         "2016",
         "Mato Grosso",
         211
        ],
        [
         "2016",
         "Rio de Janeiro",
         204
        ],
        [
         "2016",
         "Paraíba",
         161
        ],
        [
         "2016",
         "Ceará",
         144
        ],
        [
         "2016",
         "Rio Grande do Norte",
         143
        ],
        [
         "2016",
         "Distrito Federal",
         133
        ],
        [
         "2016",
         "Rondônia",
         125
        ],
        [
         "2016",
         "Piauí",
         113
        ],
        [
         "2016",
         "Pará",
         109
        ],
        [
         "2016",
         "Tocantins",
         72
        ],
        [
         "2016",
         "Sergipe",
         67
        ],
        [
         "2016",
         "Maranhão",
         66
        ],
        [
         "2016",
         "Roraima",
         62
        ],
        [
         "2016",
         "Alagoas",
         57
        ],
        [
         "2016",
         "Amapá",
         27
        ],
        [
         "2016",
         "Acre",
         17
        ],
        [
         "2016",
         "Amazonas",
         10
        ],
        [
         "2017",
         "Santa Catarina",
         863
        ],
        [
         "2017",
         "Paraná",
         844
        ],
        [
         "2017",
         "Minas Gerais",
         588
        ],
        [
         "2017",
         "Rio Grande do Sul",
         482
        ],
        [
         "2017",
         "Goiás",
         375
        ],
        [
         "2017",
         "São Paulo",
         373
        ],
        [
         "2017",
         "Bahia",
         296
        ],
        [
         "2017",
         "Pernambuco",
         282
        ],
        [
         "2017",
         "Mato Grosso",
         254
        ],
        [
         "2017",
         "Rio de Janeiro",
         251
        ],
        [
         "2017",
         "Espírito Santo",
         201
        ],
        [
         "2017",
         "Rio Grande do Norte",
         193
        ],
        [
         "2017",
         "Paraíba",
         187
        ],
        [
         "2017",
         "Mato Grosso do Sul",
         173
        ],
        [
         "2017",
         "Piauí",
         144
        ],
        [
         "2017",
         "Pará",
         143
        ],
        [
         "2017",
         "Rondônia",
         141
        ],
        [
         "2017",
         "Ceará",
         134
        ],
        [
         "2017",
         "Distrito Federal",
         119
        ],
        [
         "2017",
         "Tocantins",
         85
        ],
        [
         "2017",
         "Maranhão",
         84
        ],
        [
         "2017",
         "Sergipe",
         81
        ],
        [
         "2017",
         "Alagoas",
         79
        ],
        [
         "2017",
         "Roraima",
         38
        ],
        [
         "2017",
         "Amapá",
         21
        ],
        [
         "2017",
         "Acre",
         10
        ],
        [
         "2017",
         "Amazonas",
         7
        ],
        [
         "2018",
         "Santa Catarina",
         774
        ],
        [
         "2018",
         "Paraná",
         633
        ],
        [
         "2018",
         "Minas Gerais",
         474
        ],
        [
         "2018",
         "Rio Grande do Sul",
         371
        ],
        [
         "2018",
         "Goiás",
         357
        ],
        [
         "2018",
         "São Paulo",
         310
        ],
        [
         "2018",
         "Bahia",
         264
        ],
        [
         "2018",
         "Pernambuco",
         246
        ],
        [
         "2018",
         "Mato Grosso",
         228
        ],
        [
         "2018",
         "Rio de Janeiro",
         206
        ],
        [
         "2018",
         "Mato Grosso do Sul",
         179
        ],
        [
         "2018",
         "Espírito Santo",
         163
        ],
        [
         "2018",
         "Paraíba",
         157
        ],
        [
         "2018",
         "Rondônia",
         151
        ],
        [
         "2018",
         "Rio Grande do Norte",
         146
        ],
        [
         "2018",
         "Piauí",
         136
        ],
        [
         "2018",
         "Pará",
         126
        ],
        [
         "2018",
         "Ceará",
         123
        ],
        [
         "2018",
         "Distrito Federal",
         108
        ],
        [
         "2018",
         "Maranhão",
         89
        ],
        [
         "2018",
         "Tocantins",
         63
        ],
        [
         "2018",
         "Sergipe",
         62
        ],
        [
         "2018",
         "Alagoas",
         57
        ],
        [
         "2018",
         "Roraima",
         39
        ],
        [
         "2018",
         "Amapá",
         17
        ],
        [
         "2018",
         "Acre",
         13
        ],
        [
         "2018",
         "Amazonas",
         10
        ],
        [
         "2019",
         "Santa Catarina",
         841
        ],
        [
         "2019",
         "Paraná",
         762
        ],
        [
         "2019",
         "Minas Gerais",
         474
        ],
        [
         "2019",
         "Rio Grande do Sul",
         458
        ],
        [
         "2019",
         "Goiás",
         376
        ],
        [
         "2019",
         "Bahia",
         306
        ],
        [
         "2019",
         "São Paulo",
         286
        ],
        [
         "2019",
         "Pernambuco",
         265
        ],
        [
         "2019",
         "Rio de Janeiro",
         225
        ],
        [
         "2019",
         "Mato Grosso",
         216
        ],
        [
         "2019",
         "Espírito Santo",
         184
        ],
        [
         "2019",
         "Paraíba",
         164
        ],
        [
         "2019",
         "Ceará",
         160
        ],
        [
         "2019",
         "Mato Grosso do Sul",
         157
        ],
        [
         "2019",
         "Rio Grande do Norte",
         147
        ],
        [
         "2019",
         "Piauí",
         142
        ],
        [
         "2019",
         "Rondônia",
         130
        ],
        [
         "2019",
         "Distrito Federal",
         120
        ],
        [
         "2019",
         "Maranhão",
         81
        ],
        [
         "2019",
         "Pará",
         79
        ],
        [
         "2019",
         "Tocantins",
         57
        ],
        [
         "2019",
         "Alagoas",
         56
        ],
        [
         "2019",
         "Sergipe",
         49
        ],
        [
         "2019",
         "Roraima",
         40
        ],
        [
         "2019",
         "Amapá",
         24
        ],
        [
         "2019",
         "Acre",
         10
        ],
        [
         "2019",
         "Amazonas",
         6
        ],
        [
         "2020",
         "Santa Catarina",
         726
        ],
        [
         "2020",
         "Paraná",
         682
        ],
        [
         "2020",
         "Minas Gerais",
         441
        ],
        [
         "2020",
         "Rio Grande do Sul",
         432
        ],
        [
         "2020",
         "Goiás",
         366
        ],
        [
         "2020",
         "Bahia",
         268
        ],
        [
         "2020",
         "São Paulo",
         265
        ],
        [
         "2020",
         "Pernambuco",
         247
        ],
        [
         "2020",
         "Rio de Janeiro",
         221
        ],
        [
         "2020",
         "Espírito Santo",
         193
        ],
        [
         "2020",
         "Mato Grosso",
         183
        ],
        [
         "2020",
         "Distrito Federal",
         164
        ],
        [
         "2020",
         "Paraíba",
         152
        ],
        [
         "2020",
         "Mato Grosso do Sul",
         148
        ],
        [
         "2020",
         "Ceará",
         141
        ],
        [
         "2020",
         "Rio Grande do Norte",
         134
        ],
        [
         "2020",
         "Rondônia",
         112
        ],
        [
         "2020",
         "Piauí",
         102
        ],
        [
         "2020",
         "Maranhão",
         100
        ],
        [
         "2020",
         "Pará",
         97
        ],
        [
         "2020",
         "Tocantins",
         63
        ],
        [
         "2020",
         "Alagoas",
         54
        ],
        [
         "2020",
         "Sergipe",
         54
        ],
        [
         "2020",
         "Roraima",
         40
        ],
        [
         "2020",
         "Amapá",
         21
        ],
        [
         "2020",
         "Amazonas",
         16
        ],
        [
         "2020",
         "Acre",
         14
        ],
        [
         "2021",
         "Santa Catarina",
         844
        ],
        [
         "2021",
         "Paraná",
         685
        ],
        [
         "2021",
         "Rio Grande do Sul",
         472
        ],
        [
         "2021",
         "Minas Gerais",
         413
        ],
        [
         "2021",
         "Goiás",
         333
        ],
        [
         "2021",
         "Bahia",
         241
        ],
        [
         "2021",
         "São Paulo",
         232
        ],
        [
         "2021",
         "Rio de Janeiro",
         226
        ],
        [
         "2021",
         "Pernambuco",
         198
        ],
        [
         "2021",
         "Mato Grosso",
         148
        ],
        [
         "2021",
         "Mato Grosso do Sul",
         144
        ],
        [
         "2021",
         "Espírito Santo",
         138
        ],
        [
         "2021",
         "Paraíba",
         119
        ],
        [
         "2021",
         "Distrito Federal",
         110
        ],
        [
         "2021",
         "Ceará",
         108
        ],
        [
         "2021",
         "Rondônia",
         106
        ],
        [
         "2021",
         "Rio Grande do Norte",
         93
        ],
        [
         "2021",
         "Maranhão",
         80
        ],
        [
         "2021",
         "Piauí",
         73
        ],
        [
         "2021",
         "Sergipe",
         54
        ],
        [
         "2021",
         "Pará",
         49
        ],
        [
         "2021",
         "Roraima",
         39
        ],
        [
         "2021",
         "Alagoas",
         38
        ],
        [
         "2021",
         "Tocantins",
         37
        ],
        [
         "2021",
         "Acre",
         12
        ],
        [
         "2021",
         "Amapá",
         12
        ],
        [
         "2021",
         "Amazonas",
         1
        ],
        [
         "2022",
         "Santa Catarina",
         714
        ],
        [
         "2022",
         "Paraná",
         623
        ],
        [
         "2022",
         "Rio Grande do Sul",
         494
        ],
        [
         "2022",
         "Minas Gerais",
         402
        ],
        [
         "2022",
         "Goiás",
         319
        ],
        [
         "2022",
         "Pernambuco",
         228
        ],
        [
         "2022",
         "Rio de Janeiro",
         219
        ],
        [
         "2022",
         "Bahia",
         210
        ],
        [
         "2022",
         "São Paulo",
         192
        ],
        [
         "2022",
         "Mato Grosso",
         180
        ],
        [
         "2022",
         "Mato Grosso do Sul",
         134
        ],
        [
         "2022",
         "Paraíba",
         124
        ],
        [
         "2022",
         "Rio Grande do Norte",
         108
        ],
        [
         "2022",
         "Ceará",
         93
        ],
        [
         "2022",
         "Espírito Santo",
         93
        ],
        [
         "2022",
         "Distrito Federal",
         88
        ],
        [
         "2022",
         "Rondônia",
         83
        ],
        [
         "2022",
         "Piauí",
         81
        ],
        [
         "2022",
         "Maranhão",
         72
        ],
        [
         "2022",
         "Alagoas",
         55
        ],
        [
         "2022",
         "Sergipe",
         43
        ],
        [
         "2022",
         "Tocantins",
         41
        ],
        [
         "2022",
         "Roraima",
         36
        ],
        [
         "2022",
         "Pará",
         26
        ],
        [
         "2022",
         "Amapá",
         15
        ],
        [
         "2022",
         "Acre",
         10
        ],
        [
         "2022",
         "Amazonas",
         6
        ]
       ],
       "datasetInfos": [],
       "dbfsResultPath": null,
       "isJsonSchema": true,
       "metadata": {},
       "overflow": false,
       "plotOptions": {
        "customPlotOptions": {},
        "displayType": "table",
        "pivotAggregation": null,
        "pivotColumns": null,
        "xColumns": null,
        "yColumns": null
       },
       "removedWidgets": [],
       "schema": [
        {
         "metadata": "{}",
         "name": "Ano",
         "type": "\"string\""
        },
        {
         "metadata": "{}",
         "name": "UF",
         "type": "\"string\""
        },
        {
         "metadata": "{}",
         "name": "Total_Acidentes_Envolvendo_Alcool",
         "type": "\"long\""
        }
       ],
       "type": "table"
      }
     },
     "output_type": "display_data"
    }
   ],
   "source": [
    "%sql\n",
    "SELECT \n",
    "    d.ano AS Ano,\n",
    "    l.uf AS UF, \n",
    "    COUNT(f.id_acidente) AS Total_Acidentes_Envolvendo_Alcool\n",
    "FROM gold.fato_acidentes f\n",
    "JOIN gold.dimensao_localidade l ON f.id_localidade = l.id_localidade\n",
    "JOIN gold.dimensao_data d ON f.id_data = d.id_data\n",
    "WHERE LOWER(f.causa_acidente) LIKE '%alcool%' OR LOWER(f.causa_acidente) LIKE '%álcool%'\n",
    "GROUP BY l.uf, d.ano\n",
    "ORDER BY 1,3 DESC;"
   ]
  },
  {
   "cell_type": "markdown",
   "metadata": {
    "application/vnd.databricks.v1+cell": {
     "cellMetadata": {
      "byteLimit": 2048000,
      "rowLimit": 10000
     },
     "inputWidgets": {},
     "nuid": "45f366b5-1354-4f1d-90c5-69eae3202f54",
     "showTitle": false,
     "tableResultSettingsMap": {},
     "title": ""
    }
   },
   "source": [
    "Na consulta abaixo, é possível observar que Paraná, Santa Catarina aparecem com mais frequência entre as três UFs com maior número de acidentes envolvendo álcool, enquanto Acre, Amapá e Amazonas figuram entre as três com menor número de ocorrências. No entanto, essa análise não responde completamente à pergunta, pois estamos observando apenas os extremos por ano, sem considerar a tendência geral de redução ao longo do tempo de forma mais ampla."
   ]
  },
  {
   "cell_type": "code",
   "execution_count": 0,
   "metadata": {
    "application/vnd.databricks.v1+cell": {
     "cellMetadata": {
      "byteLimit": 2048000,
      "implicitDf": true,
      "rowLimit": 10000
     },
     "inputWidgets": {},
     "nuid": "7c8b3fdc-044f-4da5-ae23-100860ce092b",
     "showTitle": false,
     "tableResultSettingsMap": {},
     "title": ""
    }
   },
   "outputs": [
    {
     "output_type": "display_data",
     "data": {
      "text/html": [
       "<style scoped>\n",
       "  .table-result-container {\n",
       "    max-height: 300px;\n",
       "    overflow: auto;\n",
       "  }\n",
       "  table, th, td {\n",
       "    border: 1px solid black;\n",
       "    border-collapse: collapse;\n",
       "  }\n",
       "  th, td {\n",
       "    padding: 5px;\n",
       "  }\n",
       "  th {\n",
       "    text-align: left;\n",
       "  }\n",
       "</style><div class='table-result-container'><table class='table-result'><thead style='background-color: white'><tr><th>ano</th><th>uf</th><th>total_acidentes</th></tr></thead><tbody><tr><td>2007</td><td>Santa Catarina</td><td>550</td></tr><tr><td>2007</td><td>Minas Gerais</td><td>319</td></tr><tr><td>2007</td><td>Rio Grande do Sul</td><td>277</td></tr><tr><td>2007</td><td>Acre</td><td>17</td></tr><tr><td>2007</td><td>Amapá</td><td>10</td></tr><tr><td>2007</td><td>Amazonas</td><td>5</td></tr><tr><td>2008</td><td>Santa Catarina</td><td>570</td></tr><tr><td>2008</td><td>Minas Gerais</td><td>422</td></tr><tr><td>2008</td><td>Paraná</td><td>291</td></tr><tr><td>2008</td><td>Acre</td><td>9</td></tr><tr><td>2008</td><td>Amapá</td><td>8</td></tr><tr><td>2008</td><td>Amazonas</td><td>6</td></tr><tr><td>2009</td><td>Santa Catarina</td><td>768</td></tr><tr><td>2009</td><td>Paraná</td><td>605</td></tr><tr><td>2009</td><td>Minas Gerais</td><td>493</td></tr><tr><td>2009</td><td>Acre</td><td>20</td></tr><tr><td>2009</td><td>Amapá</td><td>15</td></tr><tr><td>2009</td><td>Amazonas</td><td>11</td></tr><tr><td>2010</td><td>Paraná</td><td>1097</td></tr><tr><td>2010</td><td>Santa Catarina</td><td>965</td></tr><tr><td>2010</td><td>Rio Grande do Sul</td><td>622</td></tr><tr><td>2010</td><td>Amapá</td><td>27</td></tr><tr><td>2010</td><td>Roraima</td><td>20</td></tr><tr><td>2010</td><td>Amazonas</td><td>13</td></tr><tr><td>2010</td><td>Acre</td><td>13</td></tr><tr><td>2011</td><td>Paraná</td><td>1102</td></tr><tr><td>2011</td><td>Santa Catarina</td><td>1068</td></tr><tr><td>2011</td><td>Minas Gerais</td><td>705</td></tr><tr><td>2011</td><td>Acre</td><td>26</td></tr><tr><td>2011</td><td>Roraima</td><td>26</td></tr><tr><td>2011</td><td>Amapá</td><td>19</td></tr><tr><td>2011</td><td>Amazonas</td><td>17</td></tr><tr><td>2012</td><td>Santa Catarina</td><td>1137</td></tr><tr><td>2012</td><td>Paraná</td><td>1120</td></tr><tr><td>2012</td><td>Minas Gerais</td><td>756</td></tr><tr><td>2012</td><td>Roraima</td><td>24</td></tr><tr><td>2012</td><td>Amapá</td><td>24</td></tr><tr><td>2012</td><td>Amazonas</td><td>19</td></tr><tr><td>2012</td><td>Acre</td><td>16</td></tr><tr><td>2013</td><td>Paraná</td><td>1130</td></tr><tr><td>2013</td><td>Santa Catarina</td><td>1002</td></tr><tr><td>2013</td><td>Minas Gerais</td><td>752</td></tr><tr><td>2013</td><td>Amapá</td><td>30</td></tr><tr><td>2013</td><td>Acre</td><td>12</td></tr><tr><td>2013</td><td>Amazonas</td><td>8</td></tr><tr><td>2014</td><td>Paraná</td><td>1172</td></tr><tr><td>2014</td><td>Santa Catarina</td><td>981</td></tr><tr><td>2014</td><td>Minas Gerais</td><td>727</td></tr><tr><td>2014</td><td>Amapá</td><td>36</td></tr><tr><td>2014</td><td>Acre</td><td>15</td></tr><tr><td>2014</td><td>Amazonas</td><td>5</td></tr><tr><td>2015</td><td>Paraná</td><td>937</td></tr><tr><td>2015</td><td>Santa Catarina</td><td>923</td></tr><tr><td>2015</td><td>Minas Gerais</td><td>592</td></tr><tr><td>2015</td><td>Amapá</td><td>28</td></tr><tr><td>2015</td><td>Acre</td><td>24</td></tr><tr><td>2015</td><td>Amazonas</td><td>6</td></tr><tr><td>2016</td><td>Santa Catarina</td><td>859</td></tr><tr><td>2016</td><td>Paraná</td><td>845</td></tr><tr><td>2016</td><td>Minas Gerais</td><td>622</td></tr><tr><td>2016</td><td>Amapá</td><td>27</td></tr><tr><td>2016</td><td>Acre</td><td>17</td></tr><tr><td>2016</td><td>Amazonas</td><td>10</td></tr><tr><td>2017</td><td>Santa Catarina</td><td>863</td></tr><tr><td>2017</td><td>Paraná</td><td>844</td></tr><tr><td>2017</td><td>Minas Gerais</td><td>588</td></tr><tr><td>2017</td><td>Amapá</td><td>21</td></tr><tr><td>2017</td><td>Acre</td><td>10</td></tr><tr><td>2017</td><td>Amazonas</td><td>7</td></tr><tr><td>2018</td><td>Santa Catarina</td><td>774</td></tr><tr><td>2018</td><td>Paraná</td><td>633</td></tr><tr><td>2018</td><td>Minas Gerais</td><td>474</td></tr><tr><td>2018</td><td>Amapá</td><td>17</td></tr><tr><td>2018</td><td>Acre</td><td>13</td></tr><tr><td>2018</td><td>Amazonas</td><td>10</td></tr><tr><td>2019</td><td>Santa Catarina</td><td>841</td></tr><tr><td>2019</td><td>Paraná</td><td>762</td></tr><tr><td>2019</td><td>Minas Gerais</td><td>474</td></tr><tr><td>2019</td><td>Amapá</td><td>24</td></tr><tr><td>2019</td><td>Acre</td><td>10</td></tr><tr><td>2019</td><td>Amazonas</td><td>6</td></tr><tr><td>2020</td><td>Santa Catarina</td><td>726</td></tr><tr><td>2020</td><td>Paraná</td><td>682</td></tr><tr><td>2020</td><td>Minas Gerais</td><td>441</td></tr><tr><td>2020</td><td>Amapá</td><td>21</td></tr><tr><td>2020</td><td>Amazonas</td><td>16</td></tr><tr><td>2020</td><td>Acre</td><td>14</td></tr><tr><td>2021</td><td>Santa Catarina</td><td>844</td></tr><tr><td>2021</td><td>Paraná</td><td>685</td></tr><tr><td>2021</td><td>Rio Grande do Sul</td><td>472</td></tr><tr><td>2021</td><td>Tocantins</td><td>37</td></tr><tr><td>2021</td><td>Amapá</td><td>12</td></tr><tr><td>2021</td><td>Acre</td><td>12</td></tr><tr><td>2021</td><td>Amazonas</td><td>1</td></tr><tr><td>2022</td><td>Santa Catarina</td><td>714</td></tr><tr><td>2022</td><td>Paraná</td><td>623</td></tr><tr><td>2022</td><td>Rio Grande do Sul</td><td>494</td></tr><tr><td>2022</td><td>Amapá</td><td>15</td></tr><tr><td>2022</td><td>Acre</td><td>10</td></tr><tr><td>2022</td><td>Amazonas</td><td>6</td></tr></tbody></table></div>"
      ]
     },
     "metadata": {
      "application/vnd.databricks.v1+output": {
       "addedWidgets": {},
       "aggData": [],
       "aggError": "",
       "aggOverflow": false,
       "aggSchema": [],
       "aggSeriesLimitReached": false,
       "aggType": "",
       "arguments": {},
       "columnCustomDisplayInfos": {},
       "data": [
        [
         "2007",
         "Santa Catarina",
         550
        ],
        [
         "2007",
         "Minas Gerais",
         319
        ],
        [
         "2007",
         "Rio Grande do Sul",
         277
        ],
        [
         "2007",
         "Acre",
         17
        ],
        [
         "2007",
         "Amapá",
         10
        ],
        [
         "2007",
         "Amazonas",
         5
        ],
        [
         "2008",
         "Santa Catarina",
         570
        ],
        [
         "2008",
         "Minas Gerais",
         422
        ],
        [
         "2008",
         "Paraná",
         291
        ],
        [
         "2008",
         "Acre",
         9
        ],
        [
         "2008",
         "Amapá",
         8
        ],
        [
         "2008",
         "Amazonas",
         6
        ],
        [
         "2009",
         "Santa Catarina",
         768
        ],
        [
         "2009",
         "Paraná",
         605
        ],
        [
         "2009",
         "Minas Gerais",
         493
        ],
        [
         "2009",
         "Acre",
         20
        ],
        [
         "2009",
         "Amapá",
         15
        ],
        [
         "2009",
         "Amazonas",
         11
        ],
        [
         "2010",
         "Paraná",
         1097
        ],
        [
         "2010",
         "Santa Catarina",
         965
        ],
        [
         "2010",
         "Rio Grande do Sul",
         622
        ],
        [
         "2010",
         "Amapá",
         27
        ],
        [
         "2010",
         "Roraima",
         20
        ],
        [
         "2010",
         "Amazonas",
         13
        ],
        [
         "2010",
         "Acre",
         13
        ],
        [
         "2011",
         "Paraná",
         1102
        ],
        [
         "2011",
         "Santa Catarina",
         1068
        ],
        [
         "2011",
         "Minas Gerais",
         705
        ],
        [
         "2011",
         "Acre",
         26
        ],
        [
         "2011",
         "Roraima",
         26
        ],
        [
         "2011",
         "Amapá",
         19
        ],
        [
         "2011",
         "Amazonas",
         17
        ],
        [
         "2012",
         "Santa Catarina",
         1137
        ],
        [
         "2012",
         "Paraná",
         1120
        ],
        [
         "2012",
         "Minas Gerais",
         756
        ],
        [
         "2012",
         "Roraima",
         24
        ],
        [
         "2012",
         "Amapá",
         24
        ],
        [
         "2012",
         "Amazonas",
         19
        ],
        [
         "2012",
         "Acre",
         16
        ],
        [
         "2013",
         "Paraná",
         1130
        ],
        [
         "2013",
         "Santa Catarina",
         1002
        ],
        [
         "2013",
         "Minas Gerais",
         752
        ],
        [
         "2013",
         "Amapá",
         30
        ],
        [
         "2013",
         "Acre",
         12
        ],
        [
         "2013",
         "Amazonas",
         8
        ],
        [
         "2014",
         "Paraná",
         1172
        ],
        [
         "2014",
         "Santa Catarina",
         981
        ],
        [
         "2014",
         "Minas Gerais",
         727
        ],
        [
         "2014",
         "Amapá",
         36
        ],
        [
         "2014",
         "Acre",
         15
        ],
        [
         "2014",
         "Amazonas",
         5
        ],
        [
         "2015",
         "Paraná",
         937
        ],
        [
         "2015",
         "Santa Catarina",
         923
        ],
        [
         "2015",
         "Minas Gerais",
         592
        ],
        [
         "2015",
         "Amapá",
         28
        ],
        [
         "2015",
         "Acre",
         24
        ],
        [
         "2015",
         "Amazonas",
         6
        ],
        [
         "2016",
         "Santa Catarina",
         859
        ],
        [
         "2016",
         "Paraná",
         845
        ],
        [
         "2016",
         "Minas Gerais",
         622
        ],
        [
         "2016",
         "Amapá",
         27
        ],
        [
         "2016",
         "Acre",
         17
        ],
        [
         "2016",
         "Amazonas",
         10
        ],
        [
         "2017",
         "Santa Catarina",
         863
        ],
        [
         "2017",
         "Paraná",
         844
        ],
        [
         "2017",
         "Minas Gerais",
         588
        ],
        [
         "2017",
         "Amapá",
         21
        ],
        [
         "2017",
         "Acre",
         10
        ],
        [
         "2017",
         "Amazonas",
         7
        ],
        [
         "2018",
         "Santa Catarina",
         774
        ],
        [
         "2018",
         "Paraná",
         633
        ],
        [
         "2018",
         "Minas Gerais",
         474
        ],
        [
         "2018",
         "Amapá",
         17
        ],
        [
         "2018",
         "Acre",
         13
        ],
        [
         "2018",
         "Amazonas",
         10
        ],
        [
         "2019",
         "Santa Catarina",
         841
        ],
        [
         "2019",
         "Paraná",
         762
        ],
        [
         "2019",
         "Minas Gerais",
         474
        ],
        [
         "2019",
         "Amapá",
         24
        ],
        [
         "2019",
         "Acre",
         10
        ],
        [
         "2019",
         "Amazonas",
         6
        ],
        [
         "2020",
         "Santa Catarina",
         726
        ],
        [
         "2020",
         "Paraná",
         682
        ],
        [
         "2020",
         "Minas Gerais",
         441
        ],
        [
         "2020",
         "Amapá",
         21
        ],
        [
         "2020",
         "Amazonas",
         16
        ],
        [
         "2020",
         "Acre",
         14
        ],
        [
         "2021",
         "Santa Catarina",
         844
        ],
        [
         "2021",
         "Paraná",
         685
        ],
        [
         "2021",
         "Rio Grande do Sul",
         472
        ],
        [
         "2021",
         "Tocantins",
         37
        ],
        [
         "2021",
         "Amapá",
         12
        ],
        [
         "2021",
         "Acre",
         12
        ],
        [
         "2021",
         "Amazonas",
         1
        ],
        [
         "2022",
         "Santa Catarina",
         714
        ],
        [
         "2022",
         "Paraná",
         623
        ],
        [
         "2022",
         "Rio Grande do Sul",
         494
        ],
        [
         "2022",
         "Amapá",
         15
        ],
        [
         "2022",
         "Acre",
         10
        ],
        [
         "2022",
         "Amazonas",
         6
        ]
       ],
       "datasetInfos": [],
       "dbfsResultPath": null,
       "isJsonSchema": true,
       "metadata": {},
       "overflow": false,
       "plotOptions": {
        "customPlotOptions": {},
        "displayType": "table",
        "pivotAggregation": null,
        "pivotColumns": null,
        "xColumns": null,
        "yColumns": null
       },
       "removedWidgets": [],
       "schema": [
        {
         "metadata": "{}",
         "name": "ano",
         "type": "\"string\""
        },
        {
         "metadata": "{}",
         "name": "uf",
         "type": "\"string\""
        },
        {
         "metadata": "{}",
         "name": "total_acidentes",
         "type": "\"long\""
        }
       ],
       "type": "table"
      }
     },
     "output_type": "display_data"
    }
   ],
   "source": [
    "%sql\n",
    "WITH acidentes_por_uf_ano AS (\n",
    "    SELECT \n",
    "        d.ano AS ano,\n",
    "        l.uf AS uf, \n",
    "        COUNT(f.id_acidente) AS total_acidentes\n",
    "    FROM gold.fato_acidentes f\n",
    "    JOIN gold.dimensao_localidade l ON f.id_localidade = l.id_localidade\n",
    "    JOIN gold.dimensao_data d ON f.id_data = d.id_data\n",
    "    WHERE LOWER(f.causa_acidente) LIKE '%alcool%' OR LOWER(f.causa_acidente) LIKE '%álcool%'\n",
    "    GROUP BY d.ano, l.uf\n",
    "),\n",
    "ranked_acidentes AS (\n",
    "    SELECT \n",
    "        *,\n",
    "        DENSE_RANK() OVER (PARTITION BY ano ORDER BY total_acidentes DESC) AS rank_maior,\n",
    "        DENSE_RANK() OVER (PARTITION BY ano ORDER BY total_acidentes ASC) AS rank_menor\n",
    "    FROM acidentes_por_uf_ano\n",
    ")\n",
    "SELECT \n",
    "    ano,\n",
    "    uf,\n",
    "    total_acidentes\n",
    "FROM ranked_acidentes\n",
    "WHERE rank_maior <= 3 OR rank_menor <= 3\n",
    "ORDER BY ano, total_acidentes DESC;\n"
   ]
  },
  {
   "cell_type": "markdown",
   "metadata": {
    "application/vnd.databricks.v1+cell": {
     "cellMetadata": {
      "byteLimit": 2048000,
      "rowLimit": 10000
     },
     "inputWidgets": {},
     "nuid": "2e4ed02a-2c7f-430e-b191-9f0e2fcd3888",
     "showTitle": false,
     "tableResultSettingsMap": {},
     "title": ""
    }
   },
   "source": [
    "**Conclusão**\n",
    "\n",
    "Não foi possível afirmar que a Lei Seca teve um impacto direto na redução dos acidentes relacionados ao consumo de álcool. A análise indicou que o número de acidentes de trânsito no Brasil continuou crescendo até 2011, apresentou uma queda até 2021 e, a partir daí, voltou a registrar um leve aumento. Considerando que a Lei Seca entrou em vigor em junho de 2008, poderia-se argumentar que ela não teve um impacto positivo evidente. No entanto, é importante considerar outros fatores que podem ter influenciado esse cenário, como o aumento da frota de veículos populares, outras políticas públicas de segurança no trânsito e a melhoria na coleta de dados sobre acidentes. Dessa forma, para se concluir com mais precisão sobre o real impacto da Lei Seca, seriam necessários estudos mais aprofundados."
   ]
  },
  {
   "cell_type": "markdown",
   "metadata": {
    "application/vnd.databricks.v1+cell": {
     "cellMetadata": {
      "byteLimit": 2048000,
      "rowLimit": 10000
     },
     "inputWidgets": {},
     "nuid": "ade64c53-ae15-41c1-b2a8-2ca34ab79a49",
     "showTitle": false,
     "tableResultSettingsMap": {},
     "title": ""
    }
   },
   "source": [
    "**Autoavaliação**\n",
    "\n",
    "Embora a maioria das perguntas tenha sido respondida, a última — que eu considerei uma das mais legais para entender melhor a situação — ficou com uma visualização bem difícil. Seria muito melhor trazer isso em um gráfico ou algo mais visual, mas acredito que isso seja tratado em outras sprints.\n",
    "\n",
    "As condições meteorológicas no dataset também não tiveram uma curadoria muito precisa. Achei estranho \"sol\" e \"céu claro\" serem categorias separadas. Poderia ter unificado esses campos, mas fiquei receosa de existir alguma diferença que eu não tenha percebido. De qualquer forma, isso não faria tanta diferença no resultado final, mas chamou minha atenção. Além disso, a categoria \"vento\" ficou bem abstrata.\n",
    "\n",
    "Outra limitação é que o estudo foca em rodovias, o que deixa a análise meio distante da forma como nós geralmente pensamos na Lei Seca — aqueles testes de bafômetro nas ruas da cidade. Talvez um próximo passo fosse tentar encontrar um dataset com mais informações sobre essas fiscalizações urbanas para ter uma visão mais completa do impacto da lei."
   ]
  }
 ],
 "metadata": {
  "application/vnd.databricks.v1+notebook": {
   "computePreferences": null,
   "dashboards": [],
   "environmentMetadata": {
    "base_environment": "",
    "environment_version": "1"
   },
   "inputWidgetPreferences": null,
   "language": "python",
   "notebookMetadata": {
    "mostRecentlyExecutedCommandWithImplicitDF": {
     "commandId": 374149815198935,
     "dataframes": [
      "_sqldf"
     ]
    },
    "pythonIndentUnit": 4
   },
   "notebookName": "mvp engenharia de dados",
   "widgets": {}
  }
 },
 "nbformat": 4,
 "nbformat_minor": 0
}